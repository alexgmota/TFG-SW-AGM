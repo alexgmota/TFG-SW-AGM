{
 "cells": [
  {
   "attachments": {},
   "cell_type": "markdown",
   "metadata": {},
   "source": [
    "# Deep Learning: Laparoscopic segmentation.\n",
    "[Dataset](https://www.kaggle.com/datasets/newslab/cholecseg8k?resource=download)"
   ]
  },
  {
   "cell_type": "code",
   "execution_count": 1,
   "metadata": {},
   "outputs": [],
   "source": [
    "import os\n",
    "\n",
    "os.environ[\"CUBLAS_WORKSPACE_CONFIG\"]=\":4096:8\""
   ]
  },
  {
   "cell_type": "code",
   "execution_count": 2,
   "metadata": {},
   "outputs": [],
   "source": [
    "import torch\n",
    "from glob import glob\n",
    "import numpy as np\n",
    "import time\n",
    "import matplotlib.pyplot as plt\n",
    "from torch.utils.data import Dataset\n",
    "import cv2\n",
    "import random\n",
    "from pytorch_Uformer import model\n",
    "from pytorch_Uformer import losses\n",
    "from sklearn.model_selection import train_test_split\n",
    "from tqdm import tqdm\n",
    "import math"
   ]
  },
  {
   "cell_type": "code",
   "execution_count": 3,
   "metadata": {},
   "outputs": [
    {
     "data": {
      "text/plain": [
       "(True, 'NVIDIA GeForce RTX 2060 SUPER')"
      ]
     },
     "execution_count": 3,
     "metadata": {},
     "output_type": "execute_result"
    }
   ],
   "source": [
    "torch.cuda.is_available(), torch.cuda.get_device_name(0)"
   ]
  },
  {
   "cell_type": "code",
   "execution_count": 4,
   "metadata": {},
   "outputs": [],
   "source": [
    "SEED = 33\n",
    "random.seed(SEED)\n",
    "np.random.seed(SEED)\n",
    "torch.manual_seed(SEED)\n",
    "torch.cuda.manual_seed_all(SEED)\n",
    "torch.use_deterministic_algorithms(True)"
   ]
  },
  {
   "cell_type": "code",
   "execution_count": 5,
   "metadata": {},
   "outputs": [],
   "source": [
    "# determine the device to be used for training and evaluation\n",
    "DEVICE = \"cuda\" if torch.cuda.is_available() else \"cpu\"\n",
    "# determine if we will be pinning memory during data loading\n",
    "PIN_MEMORY = True if DEVICE == \"cuda\" else False\n",
    "\n",
    "NUM_CLASSES = 13\n",
    "# initialize learning rate, number of epochs to train for, and the\n",
    "# batch size\n",
    "INIT_LR = 5e-4\n",
    "NUM_EPOCHS = 100\n",
    "BATCH_SIZE = 45\n",
    "# define the input image dimensions\n",
    "INPUT_IMAGE_WIDTH = 64\n",
    "INPUT_IMAGE_HEIGHT = 64\n",
    "\n",
    "CLASS_WEIGHTS = [2.45780159e-01, 2.24610010e-01, 2.24005501e-01, 1.87119512e-02,\n",
    " 1.46965911e-01, 2.54698498e-02, 2.35562466e-02, 4.28713053e-03,\n",
    " 3.93593665e-04, 1.38500705e-02, 6.78984614e-02, 1.01436955e-04,\n",
    " 4.36967906e-03]"
   ]
  },
  {
   "attachments": {},
   "cell_type": "markdown",
   "metadata": {},
   "source": [
    "## Data preparation."
   ]
  },
  {
   "cell_type": "code",
   "execution_count": 6,
   "metadata": {},
   "outputs": [
    {
     "name": "stdout",
     "output_type": "stream",
     "text": [
      "Number of samples: 8080\n"
     ]
    }
   ],
   "source": [
    "IMAGE_DATASET_PATH = glob(f'../*/*/*/frame_*_endo.png')\n",
    "MASK_DATASET_PATH  = glob(f'../*/*/*/frame_*_endo_watershed_mask.png')\n",
    "N = len(IMAGE_DATASET_PATH)\n",
    "assert len(IMAGE_DATASET_PATH) == len(MASK_DATASET_PATH)\n",
    "\n",
    "print(f'Number of samples: {str(len(MASK_DATASET_PATH))}')"
   ]
  },
  {
   "cell_type": "code",
   "execution_count": 7,
   "metadata": {},
   "outputs": [],
   "source": [
    "# https://gist.github.com/IdeaKing/11cf5e146d23c5bb219ba3508cca89ec\n",
    "def resize_with_pad(image: np.array, \n",
    "                    new_shape, \n",
    "                    padding_color = (0, 0, 0)) -> np.array:\n",
    "    \"\"\"Maintains aspect ratio and resizes with padding.\n",
    "    Params:\n",
    "        image: Image to be resized.\n",
    "        new_shape: Expected (width, height) of new image.\n",
    "        padding_color: Tuple in BGR of padding color\n",
    "    Returns:\n",
    "        image: Resized image with padding\n",
    "    \"\"\"\n",
    "    original_shape = (image.shape[1], image.shape[0])\n",
    "    ratio = float(max(new_shape))/max(original_shape)\n",
    "    new_size = tuple([int(x*ratio) for x in original_shape])\n",
    "    image = cv2.resize(image, new_size, interpolation=cv2.INTER_NEAREST)\n",
    "    delta_w = new_shape[0] - new_size[0]\n",
    "    delta_h = new_shape[1] - new_size[1]\n",
    "    top, bottom = delta_h//2, delta_h-(delta_h//2)\n",
    "    left, right = delta_w//2, delta_w-(delta_w//2)\n",
    "    image = cv2.copyMakeBorder(image, top, bottom, left, right, cv2.BORDER_CONSTANT, value=padding_color)\n",
    "    return image"
   ]
  },
  {
   "cell_type": "code",
   "execution_count": 8,
   "metadata": {},
   "outputs": [],
   "source": [
    "def to_categorical(y, num_classes=None, dtype=\"float32\"):\n",
    "\ty = np.array(y, dtype=\"int\")\n",
    "\tinput_shape = y.shape\n",
    "\n",
    "\t# Shrink the last dimension if the shape is (..., 1).\n",
    "\tif input_shape and input_shape[-1] == 1 and len(input_shape) > 1:\n",
    "\t\tinput_shape = tuple(input_shape[:-1])\n",
    "\n",
    "\ty = y.reshape(-1)\n",
    "\tif not num_classes:\n",
    "\t\tnum_classes = np.max(y) + 1\n",
    "\tn = y.shape[0]\n",
    "\tcategorical = np.zeros((n, num_classes), dtype=dtype)\n",
    "\tcategorical[np.arange(n), y] = 1\n",
    "\toutput_shape = input_shape + (num_classes,)\n",
    "\tcategorical = np.reshape(categorical, output_shape)\n",
    "\treturn categorical\n",
    "\n",
    "labels = [[11],[21],[13],[12],[31],[23],[24],[25],[32],[22],[33],[5]]\n",
    "def encode_mask(masks_arr, n_classes=NUM_CLASSES, H=INPUT_IMAGE_HEIGHT, W=INPUT_IMAGE_WIDTH, labels_arr=labels):\n",
    "    y_encoded = np.zeros((H, W, 1), dtype=np.uint8)\n",
    "\n",
    "    for i, label in enumerate(labels_arr):\n",
    "        y_encoded[np.all(label == masks_arr, axis=-1)] = i + 1\n",
    "    \n",
    "    return to_categorical(y_encoded, num_classes=n_classes)\n",
    "\n",
    "class SegmentationDataset(Dataset):\n",
    "\tdef __init__(self, imagePaths, maskPaths):\n",
    "\t\t# store the image and mask filepaths, and augmentation\n",
    "\t\t# transforms\n",
    "\t\tself.imagePaths = imagePaths\n",
    "\t\tself.maskPaths = maskPaths\n",
    "\n",
    "\tdef __len__(self):\n",
    "\t\t# return the number of total samples contained in the dataset\n",
    "\t\treturn len(self.imagePaths)\n",
    "\t\n",
    "\tdef __getitem__(self, idx):\n",
    "\t\t# grab the image path from the current index\n",
    "\t\timagePath = self.imagePaths[idx]\n",
    "\t\t# load the image from disk, swap its channels from BGR to RGB,\n",
    "\t\t# and read the associated mask from disk in grayscale mode\n",
    "\t\timage = cv2.imread(imagePath)\n",
    "\t\timage = image[10:-10, 120:-120,:]\n",
    "\t\timage = resize_with_pad(image, (INPUT_IMAGE_WIDTH, INPUT_IMAGE_HEIGHT))\n",
    "\t\timage = cv2.cvtColor(image, cv2.COLOR_BGR2RGB)\n",
    "\t\timage = image / 255\n",
    "\t\timage = torch.from_numpy(np.float32(image))\n",
    "\t\timage = image.permute(2,0,1)\n",
    "\n",
    "\t\tmask = cv2.imread(self.maskPaths[idx])\n",
    "\t\tmask = mask[10:-10, 120:-120,:]\n",
    "\t\tmask = resize_with_pad(mask, (INPUT_IMAGE_WIDTH, INPUT_IMAGE_HEIGHT), (50, 50, 50))\n",
    "\t\tmask = cv2.cvtColor(mask, cv2.COLOR_BGR2GRAY)\n",
    "\t\tmask = np.expand_dims(mask, axis=-1)\n",
    "\t\tmask = encode_mask(mask)\n",
    "\t\tmask = torch.from_numpy(np.float32(mask))\n",
    "\t\tmask = mask.permute(2,0,1)\n",
    "\n",
    "\t\tassert image.shape == (3, INPUT_IMAGE_HEIGHT, INPUT_IMAGE_WIDTH), f\"Bad image shape {image.shape}\"\n",
    "\t\tassert mask.shape == (13, INPUT_IMAGE_HEIGHT, INPUT_IMAGE_WIDTH), f\"Bad mask shape {mask.shape}\"\n",
    "\n",
    "\t\t# return a tuple of the image and its mask\n",
    "\t\treturn image, mask"
   ]
  },
  {
   "cell_type": "code",
   "execution_count": 9,
   "metadata": {},
   "outputs": [
    {
     "name": "stderr",
     "output_type": "stream",
     "text": [
      "c:\\Users\\alexg\\miniconda3\\envs\\pytorch-gpu\\lib\\site-packages\\torch\\functional.py:504: UserWarning: torch.meshgrid: in an upcoming release, it will be required to pass the indexing argument. (Triggered internally at C:\\cb\\pytorch_1000000000000\\work\\aten\\src\\ATen\\native\\TensorShape.cpp:3484.)\n",
      "  return _VF.meshgrid(tensors, **kwargs)  # type: ignore[attr-defined]\n"
     ]
    }
   ],
   "source": [
    "uformer = model.Uformer(img_size=INPUT_IMAGE_HEIGHT,in_chans=13, embed_dim=16, win_size=8, token_projection='linear', token_mlp='leff',modulator=True)\n",
    "trainImages, testImages, trainMasks, testMasks = train_test_split(IMAGE_DATASET_PATH, MASK_DATASET_PATH, test_size=0.2, random_state=43)"
   ]
  },
  {
   "cell_type": "code",
   "execution_count": 10,
   "metadata": {},
   "outputs": [
    {
     "name": "stdout",
     "output_type": "stream",
     "text": [
      "[INFO] found 6464 examples in the training set...\n",
      "[INFO] found 1616 examples in the test set...\n"
     ]
    }
   ],
   "source": [
    "# define transformations\n",
    "from torch.utils.data import DataLoader\n",
    "\n",
    "# create the train and test datasets\n",
    "trainDS = SegmentationDataset(imagePaths=trainImages, maskPaths=trainMasks)\n",
    "testDS = SegmentationDataset(imagePaths=testImages, maskPaths=testMasks)\n",
    "print(f\"[INFO] found {len(trainDS)} examples in the training set...\")\n",
    "print(f\"[INFO] found {len(testDS)} examples in the test set...\")\n",
    "# create the training and test data loaders\n",
    "num_workers = 4\n",
    "def seed_worker(worker_id):\n",
    "    worker_seed = torch.initial_seed() % 2**32\n",
    "    np.random.seed(worker_seed)\n",
    "    random.seed(worker_seed)\n",
    "\n",
    "g = torch.Generator()\n",
    "g.manual_seed(0)\n",
    "\n",
    "trainLoader = DataLoader(\n",
    "\ttrainDS, \n",
    "\tshuffle=True,\n",
    "\tbatch_size=BATCH_SIZE, \n",
    "\tpin_memory=PIN_MEMORY,\n",
    "    worker_init_fn=seed_worker,\n",
    "    generator=g\n",
    ")\n",
    "testLoader = DataLoader(\n",
    "\ttestDS, shuffle=False,\n",
    "\tbatch_size=BATCH_SIZE, \n",
    "\tpin_memory=PIN_MEMORY,\n",
    "    worker_init_fn=seed_worker,\n",
    "    generator=g\n",
    ")"
   ]
  },
  {
   "cell_type": "code",
   "execution_count": 11,
   "metadata": {},
   "outputs": [],
   "source": [
    "uformer = uformer.to(DEVICE)\n",
    "softmax = torch.nn.Softmax(1)\n",
    "# initialize loss function and optimizer\n",
    "lossFunc = losses.DiceLoss(class_weights=CLASS_WEIGHTS).cuda()\n",
    "opt = torch.optim.Adam(uformer.parameters(), lr=INIT_LR, betas=(0.9, 0.999),eps=1e-8, weight_decay=1e-5)\n",
    "iouMetric = losses.MeanIoU().cuda()\n",
    "gdlMetric = losses.DiceCoeficient().cuda()\n",
    "# calculate steps per epoch for training and test set\n",
    "trainSteps = math.ceil(len(trainDS) / BATCH_SIZE)\n",
    "testSteps = math.ceil(len(testDS) / BATCH_SIZE)\n",
    "# initialize a dictionary to store training history\n",
    "H = {\"train_loss\": [], \"test_loss\": [], \"train_IoU\": [], \"test_IoU\": [],\"train_DC\": [], \"test_DC\": []}"
   ]
  },
  {
   "cell_type": "code",
   "execution_count": 12,
   "metadata": {},
   "outputs": [
    {
     "name": "stdout",
     "output_type": "stream",
     "text": [
      "[INFO] training the network...\n"
     ]
    },
    {
     "name": "stderr",
     "output_type": "stream",
     "text": [
      "100%|██████████| 144/144 [01:57<00:00,  1.22it/s]\n"
     ]
    },
    {
     "name": "stdout",
     "output_type": "stream",
     "text": [
      "[INFO] EPOCH: 1/100\n",
      "Train loss: 0.964135, Test loss: 0.9549, Train IoU: 0.3582, Test IoU: 0.4600, Train Dice: 0.5091, Test Dice: 0.6279\n",
      "Best IoU improved. Model saved.\n"
     ]
    },
    {
     "name": "stderr",
     "output_type": "stream",
     "text": [
      "100%|██████████| 144/144 [01:48<00:00,  1.33it/s]\n"
     ]
    },
    {
     "name": "stdout",
     "output_type": "stream",
     "text": [
      "[INFO] EPOCH: 2/100\n",
      "Train loss: 0.950974, Test loss: 0.9489, Train IoU: 0.5117, Test IoU: 0.5447, Train Dice: 0.6749, Test Dice: 0.7035\n",
      "Best IoU improved. Model saved.\n"
     ]
    },
    {
     "name": "stderr",
     "output_type": "stream",
     "text": [
      "100%|██████████| 144/144 [01:50<00:00,  1.31it/s]\n"
     ]
    },
    {
     "name": "stdout",
     "output_type": "stream",
     "text": [
      "[INFO] EPOCH: 3/100\n",
      "Train loss: 0.946124, Test loss: 0.9434, Train IoU: 0.5997, Test IoU: 0.6414, Train Dice: 0.7463, Test Dice: 0.7769\n",
      "Best IoU improved. Model saved.\n"
     ]
    },
    {
     "name": "stderr",
     "output_type": "stream",
     "text": [
      "100%|██████████| 144/144 [01:50<00:00,  1.30it/s]\n"
     ]
    },
    {
     "name": "stdout",
     "output_type": "stream",
     "text": [
      "[INFO] EPOCH: 4/100\n",
      "Train loss: 0.940954, Test loss: 0.9385, Train IoU: 0.6795, Test IoU: 0.7216, Train Dice: 0.8041, Test Dice: 0.8336\n",
      "Best IoU improved. Model saved.\n"
     ]
    },
    {
     "name": "stderr",
     "output_type": "stream",
     "text": [
      "100%|██████████| 144/144 [01:55<00:00,  1.24it/s]\n"
     ]
    },
    {
     "name": "stdout",
     "output_type": "stream",
     "text": [
      "[INFO] EPOCH: 5/100\n",
      "Train loss: 0.937826, Test loss: 0.9369, Train IoU: 0.7307, Test IoU: 0.7431, Train Dice: 0.8394, Test Dice: 0.8483\n",
      "Best IoU improved. Model saved.\n"
     ]
    },
    {
     "name": "stderr",
     "output_type": "stream",
     "text": [
      "100%|██████████| 144/144 [01:56<00:00,  1.23it/s]\n"
     ]
    },
    {
     "name": "stdout",
     "output_type": "stream",
     "text": [
      "[INFO] EPOCH: 6/100\n",
      "Train loss: 0.936522, Test loss: 0.9356, Train IoU: 0.7516, Test IoU: 0.7654, Train Dice: 0.8539, Test Dice: 0.8625\n",
      "Best IoU improved. Model saved.\n"
     ]
    },
    {
     "name": "stderr",
     "output_type": "stream",
     "text": [
      "100%|██████████| 144/144 [01:46<00:00,  1.36it/s]\n"
     ]
    },
    {
     "name": "stdout",
     "output_type": "stream",
     "text": [
      "[INFO] EPOCH: 7/100\n",
      "Train loss: 0.934841, Test loss: 0.9333, Train IoU: 0.7770, Test IoU: 0.8061, Train Dice: 0.8699, Test Dice: 0.8892\n",
      "Best IoU improved. Model saved.\n"
     ]
    },
    {
     "name": "stderr",
     "output_type": "stream",
     "text": [
      "100%|██████████| 144/144 [01:41<00:00,  1.41it/s]\n"
     ]
    },
    {
     "name": "stdout",
     "output_type": "stream",
     "text": [
      "[INFO] EPOCH: 8/100\n",
      "Train loss: 0.933269, Test loss: 0.9327, Train IoU: 0.8054, Test IoU: 0.8182, Train Dice: 0.8889, Test Dice: 0.8972\n",
      "Best IoU improved. Model saved.\n"
     ]
    },
    {
     "name": "stderr",
     "output_type": "stream",
     "text": [
      "100%|██████████| 144/144 [01:46<00:00,  1.35it/s]\n"
     ]
    },
    {
     "name": "stdout",
     "output_type": "stream",
     "text": [
      "[INFO] EPOCH: 9/100\n",
      "Train loss: 0.932460, Test loss: 0.9320, Train IoU: 0.8199, Test IoU: 0.8302, Train Dice: 0.8983, Test Dice: 0.9046\n",
      "Best IoU improved. Model saved.\n"
     ]
    },
    {
     "name": "stderr",
     "output_type": "stream",
     "text": [
      "100%|██████████| 144/144 [01:45<00:00,  1.36it/s]\n"
     ]
    },
    {
     "name": "stdout",
     "output_type": "stream",
     "text": [
      "[INFO] EPOCH: 10/100\n",
      "Train loss: 0.931865, Test loss: 0.9315, Train IoU: 0.8314, Test IoU: 0.8395, Train Dice: 0.9054, Test Dice: 0.9103\n",
      "Best IoU improved. Model saved.\n"
     ]
    },
    {
     "name": "stderr",
     "output_type": "stream",
     "text": [
      "100%|██████████| 144/144 [01:45<00:00,  1.36it/s]\n"
     ]
    },
    {
     "name": "stdout",
     "output_type": "stream",
     "text": [
      "[INFO] EPOCH: 11/100\n",
      "Train loss: 0.931411, Test loss: 0.9311, Train IoU: 0.8395, Test IoU: 0.8473, Train Dice: 0.9103, Test Dice: 0.9152\n",
      "Best IoU improved. Model saved.\n"
     ]
    },
    {
     "name": "stderr",
     "output_type": "stream",
     "text": [
      "100%|██████████| 144/144 [01:50<00:00,  1.31it/s]\n"
     ]
    },
    {
     "name": "stdout",
     "output_type": "stream",
     "text": [
      "[INFO] EPOCH: 12/100\n",
      "Train loss: 0.931134, Test loss: 0.9309, Train IoU: 0.8452, Test IoU: 0.8498, Train Dice: 0.9137, Test Dice: 0.9165\n",
      "Best IoU improved. Model saved.\n"
     ]
    },
    {
     "name": "stderr",
     "output_type": "stream",
     "text": [
      "100%|██████████| 144/144 [01:48<00:00,  1.33it/s]\n"
     ]
    },
    {
     "name": "stdout",
     "output_type": "stream",
     "text": [
      "[INFO] EPOCH: 13/100\n",
      "Train loss: 0.930936, Test loss: 0.9308, Train IoU: 0.8489, Test IoU: 0.8542, Train Dice: 0.9160, Test Dice: 0.9195\n",
      "Best IoU improved. Model saved.\n"
     ]
    },
    {
     "name": "stderr",
     "output_type": "stream",
     "text": [
      "100%|██████████| 144/144 [01:46<00:00,  1.35it/s]\n"
     ]
    },
    {
     "name": "stdout",
     "output_type": "stream",
     "text": [
      "[INFO] EPOCH: 14/100\n",
      "Train loss: 0.930722, Test loss: 0.9304, Train IoU: 0.8527, Test IoU: 0.8606, Train Dice: 0.9183, Test Dice: 0.9231\n",
      "Best IoU improved. Model saved.\n"
     ]
    },
    {
     "name": "stderr",
     "output_type": "stream",
     "text": [
      "100%|██████████| 144/144 [01:46<00:00,  1.36it/s]\n"
     ]
    },
    {
     "name": "stdout",
     "output_type": "stream",
     "text": [
      "[INFO] EPOCH: 15/100\n",
      "Train loss: 0.930500, Test loss: 0.9303, Train IoU: 0.8573, Test IoU: 0.8603, Train Dice: 0.9210, Test Dice: 0.9229\n"
     ]
    },
    {
     "name": "stderr",
     "output_type": "stream",
     "text": [
      "100%|██████████| 144/144 [01:51<00:00,  1.29it/s]\n"
     ]
    },
    {
     "name": "stdout",
     "output_type": "stream",
     "text": [
      "[INFO] EPOCH: 16/100\n",
      "Train loss: 0.930360, Test loss: 0.9302, Train IoU: 0.8598, Test IoU: 0.8653, Train Dice: 0.9226, Test Dice: 0.9260\n",
      "Best IoU improved. Model saved.\n"
     ]
    },
    {
     "name": "stderr",
     "output_type": "stream",
     "text": [
      "100%|██████████| 144/144 [01:43<00:00,  1.39it/s]\n"
     ]
    },
    {
     "name": "stdout",
     "output_type": "stream",
     "text": [
      "[INFO] EPOCH: 17/100\n",
      "Train loss: 0.930173, Test loss: 0.9300, Train IoU: 0.8633, Test IoU: 0.8680, Train Dice: 0.9247, Test Dice: 0.9274\n",
      "Best IoU improved. Model saved.\n"
     ]
    },
    {
     "name": "stderr",
     "output_type": "stream",
     "text": [
      "100%|██████████| 144/144 [01:48<00:00,  1.33it/s]\n"
     ]
    },
    {
     "name": "stdout",
     "output_type": "stream",
     "text": [
      "[INFO] EPOCH: 18/100\n",
      "Train loss: 0.930065, Test loss: 0.9299, Train IoU: 0.8655, Test IoU: 0.8696, Train Dice: 0.9259, Test Dice: 0.9284\n",
      "Best IoU improved. Model saved.\n"
     ]
    },
    {
     "name": "stderr",
     "output_type": "stream",
     "text": [
      "100%|██████████| 144/144 [01:46<00:00,  1.36it/s]\n"
     ]
    },
    {
     "name": "stdout",
     "output_type": "stream",
     "text": [
      "[INFO] EPOCH: 19/100\n",
      "Train loss: 0.929937, Test loss: 0.9298, Train IoU: 0.8674, Test IoU: 0.8700, Train Dice: 0.9271, Test Dice: 0.9287\n",
      "Best IoU improved. Model saved.\n"
     ]
    },
    {
     "name": "stderr",
     "output_type": "stream",
     "text": [
      "100%|██████████| 144/144 [01:43<00:00,  1.39it/s]\n"
     ]
    },
    {
     "name": "stdout",
     "output_type": "stream",
     "text": [
      "[INFO] EPOCH: 20/100\n",
      "Train loss: 0.929835, Test loss: 0.9298, Train IoU: 0.8694, Test IoU: 0.8704, Train Dice: 0.9283, Test Dice: 0.9289\n",
      "Best IoU improved. Model saved.\n"
     ]
    },
    {
     "name": "stderr",
     "output_type": "stream",
     "text": [
      "100%|██████████| 144/144 [01:45<00:00,  1.37it/s]\n"
     ]
    },
    {
     "name": "stdout",
     "output_type": "stream",
     "text": [
      "[INFO] EPOCH: 21/100\n",
      "Train loss: 0.929730, Test loss: 0.9296, Train IoU: 0.8713, Test IoU: 0.8750, Train Dice: 0.9294, Test Dice: 0.9316\n",
      "Best IoU improved. Model saved.\n"
     ]
    },
    {
     "name": "stderr",
     "output_type": "stream",
     "text": [
      "100%|██████████| 144/144 [01:45<00:00,  1.36it/s]\n"
     ]
    },
    {
     "name": "stdout",
     "output_type": "stream",
     "text": [
      "[INFO] EPOCH: 22/100\n",
      "Train loss: 0.929629, Test loss: 0.9295, Train IoU: 0.8732, Test IoU: 0.8777, Train Dice: 0.9305, Test Dice: 0.9333\n",
      "Best IoU improved. Model saved.\n"
     ]
    },
    {
     "name": "stderr",
     "output_type": "stream",
     "text": [
      "100%|██████████| 144/144 [01:44<00:00,  1.38it/s]\n"
     ]
    },
    {
     "name": "stdout",
     "output_type": "stream",
     "text": [
      "[INFO] EPOCH: 23/100\n",
      "Train loss: 0.929544, Test loss: 0.9295, Train IoU: 0.8747, Test IoU: 0.8752, Train Dice: 0.9314, Test Dice: 0.9317\n"
     ]
    },
    {
     "name": "stderr",
     "output_type": "stream",
     "text": [
      "100%|██████████| 144/144 [01:45<00:00,  1.37it/s]\n"
     ]
    },
    {
     "name": "stdout",
     "output_type": "stream",
     "text": [
      "[INFO] EPOCH: 24/100\n",
      "Train loss: 0.929440, Test loss: 0.9294, Train IoU: 0.8766, Test IoU: 0.8772, Train Dice: 0.9325, Test Dice: 0.9329\n"
     ]
    },
    {
     "name": "stderr",
     "output_type": "stream",
     "text": [
      "100%|██████████| 144/144 [01:50<00:00,  1.30it/s]\n"
     ]
    },
    {
     "name": "stdout",
     "output_type": "stream",
     "text": [
      "[INFO] EPOCH: 25/100\n",
      "Train loss: 0.929391, Test loss: 0.9292, Train IoU: 0.8774, Test IoU: 0.8815, Train Dice: 0.9330, Test Dice: 0.9354\n",
      "Best IoU improved. Model saved.\n"
     ]
    },
    {
     "name": "stderr",
     "output_type": "stream",
     "text": [
      "100%|██████████| 144/144 [01:52<00:00,  1.29it/s]\n"
     ]
    },
    {
     "name": "stdout",
     "output_type": "stream",
     "text": [
      "[INFO] EPOCH: 26/100\n",
      "Train loss: 0.929343, Test loss: 0.9293, Train IoU: 0.8782, Test IoU: 0.8792, Train Dice: 0.9335, Test Dice: 0.9342\n"
     ]
    },
    {
     "name": "stderr",
     "output_type": "stream",
     "text": [
      "100%|██████████| 144/144 [01:51<00:00,  1.29it/s]\n"
     ]
    },
    {
     "name": "stdout",
     "output_type": "stream",
     "text": [
      "[INFO] EPOCH: 27/100\n",
      "Train loss: 0.929244, Test loss: 0.9291, Train IoU: 0.8802, Test IoU: 0.8815, Train Dice: 0.9347, Test Dice: 0.9355\n",
      "Best IoU improved. Model saved.\n"
     ]
    },
    {
     "name": "stderr",
     "output_type": "stream",
     "text": [
      "100%|██████████| 144/144 [01:53<00:00,  1.27it/s]\n"
     ]
    },
    {
     "name": "stdout",
     "output_type": "stream",
     "text": [
      "[INFO] EPOCH: 28/100\n",
      "Train loss: 0.929123, Test loss: 0.9290, Train IoU: 0.8818, Test IoU: 0.8839, Train Dice: 0.9356, Test Dice: 0.9368\n",
      "Best IoU improved. Model saved.\n"
     ]
    },
    {
     "name": "stderr",
     "output_type": "stream",
     "text": [
      "100%|██████████| 144/144 [01:52<00:00,  1.28it/s]\n"
     ]
    },
    {
     "name": "stdout",
     "output_type": "stream",
     "text": [
      "[INFO] EPOCH: 29/100\n",
      "Train loss: 0.929025, Test loss: 0.9289, Train IoU: 0.8840, Test IoU: 0.8866, Train Dice: 0.9368, Test Dice: 0.9385\n",
      "Best IoU improved. Model saved.\n"
     ]
    },
    {
     "name": "stderr",
     "output_type": "stream",
     "text": [
      "100%|██████████| 144/144 [01:52<00:00,  1.28it/s]\n"
     ]
    },
    {
     "name": "stdout",
     "output_type": "stream",
     "text": [
      "[INFO] EPOCH: 30/100\n",
      "Train loss: 0.928915, Test loss: 0.9289, Train IoU: 0.8857, Test IoU: 0.8861, Train Dice: 0.9378, Test Dice: 0.9380\n"
     ]
    },
    {
     "name": "stderr",
     "output_type": "stream",
     "text": [
      "100%|██████████| 144/144 [01:51<00:00,  1.29it/s]\n"
     ]
    },
    {
     "name": "stdout",
     "output_type": "stream",
     "text": [
      "[INFO] EPOCH: 31/100\n",
      "Train loss: 0.928880, Test loss: 0.9288, Train IoU: 0.8867, Test IoU: 0.8885, Train Dice: 0.9384, Test Dice: 0.9395\n",
      "Best IoU improved. Model saved.\n"
     ]
    },
    {
     "name": "stderr",
     "output_type": "stream",
     "text": [
      "100%|██████████| 144/144 [01:51<00:00,  1.29it/s]\n"
     ]
    },
    {
     "name": "stdout",
     "output_type": "stream",
     "text": [
      "[INFO] EPOCH: 32/100\n",
      "Train loss: 0.928755, Test loss: 0.9286, Train IoU: 0.8892, Test IoU: 0.8920, Train Dice: 0.9399, Test Dice: 0.9414\n",
      "Best IoU improved. Model saved.\n"
     ]
    },
    {
     "name": "stderr",
     "output_type": "stream",
     "text": [
      "100%|██████████| 144/144 [01:50<00:00,  1.30it/s]\n"
     ]
    },
    {
     "name": "stdout",
     "output_type": "stream",
     "text": [
      "[INFO] EPOCH: 33/100\n",
      "Train loss: 0.928716, Test loss: 0.9287, Train IoU: 0.8895, Test IoU: 0.8899, Train Dice: 0.9400, Test Dice: 0.9404\n"
     ]
    },
    {
     "name": "stderr",
     "output_type": "stream",
     "text": [
      "100%|██████████| 144/144 [01:51<00:00,  1.29it/s]\n"
     ]
    },
    {
     "name": "stdout",
     "output_type": "stream",
     "text": [
      "[INFO] EPOCH: 34/100\n",
      "Train loss: 0.928707, Test loss: 0.9285, Train IoU: 0.8897, Test IoU: 0.8937, Train Dice: 0.9402, Test Dice: 0.9426\n",
      "Best IoU improved. Model saved.\n"
     ]
    },
    {
     "name": "stderr",
     "output_type": "stream",
     "text": [
      "100%|██████████| 144/144 [01:53<00:00,  1.27it/s]\n"
     ]
    },
    {
     "name": "stdout",
     "output_type": "stream",
     "text": [
      "[INFO] EPOCH: 35/100\n",
      "Train loss: 0.928574, Test loss: 0.9286, Train IoU: 0.8928, Test IoU: 0.8918, Train Dice: 0.9419, Test Dice: 0.9415\n"
     ]
    },
    {
     "name": "stderr",
     "output_type": "stream",
     "text": [
      "100%|██████████| 144/144 [01:53<00:00,  1.27it/s]\n"
     ]
    },
    {
     "name": "stdout",
     "output_type": "stream",
     "text": [
      "[INFO] EPOCH: 36/100\n",
      "Train loss: 0.928554, Test loss: 0.9285, Train IoU: 0.8927, Test IoU: 0.8949, Train Dice: 0.9419, Test Dice: 0.9433\n",
      "Best IoU improved. Model saved.\n"
     ]
    },
    {
     "name": "stderr",
     "output_type": "stream",
     "text": [
      "100%|██████████| 144/144 [01:53<00:00,  1.26it/s]\n"
     ]
    },
    {
     "name": "stdout",
     "output_type": "stream",
     "text": [
      "[INFO] EPOCH: 37/100\n",
      "Train loss: 0.928481, Test loss: 0.9285, Train IoU: 0.8943, Test IoU: 0.8951, Train Dice: 0.9429, Test Dice: 0.9434\n",
      "Best IoU improved. Model saved.\n"
     ]
    },
    {
     "name": "stderr",
     "output_type": "stream",
     "text": [
      "100%|██████████| 144/144 [01:52<00:00,  1.28it/s]\n"
     ]
    },
    {
     "name": "stdout",
     "output_type": "stream",
     "text": [
      "[INFO] EPOCH: 38/100\n",
      "Train loss: 0.928394, Test loss: 0.9284, Train IoU: 0.8961, Test IoU: 0.8971, Train Dice: 0.9439, Test Dice: 0.9445\n",
      "Best IoU improved. Model saved.\n"
     ]
    },
    {
     "name": "stderr",
     "output_type": "stream",
     "text": [
      "100%|██████████| 144/144 [01:51<00:00,  1.29it/s]\n"
     ]
    },
    {
     "name": "stdout",
     "output_type": "stream",
     "text": [
      "[INFO] EPOCH: 39/100\n",
      "Train loss: 0.928390, Test loss: 0.9284, Train IoU: 0.8960, Test IoU: 0.8975, Train Dice: 0.9438, Test Dice: 0.9448\n",
      "Best IoU improved. Model saved.\n"
     ]
    },
    {
     "name": "stderr",
     "output_type": "stream",
     "text": [
      "100%|██████████| 144/144 [01:51<00:00,  1.29it/s]\n"
     ]
    },
    {
     "name": "stdout",
     "output_type": "stream",
     "text": [
      "[INFO] EPOCH: 40/100\n",
      "Train loss: 0.928375, Test loss: 0.9283, Train IoU: 0.8967, Test IoU: 0.8981, Train Dice: 0.9443, Test Dice: 0.9451\n",
      "Best IoU improved. Model saved.\n"
     ]
    },
    {
     "name": "stderr",
     "output_type": "stream",
     "text": [
      "100%|██████████| 144/144 [01:51<00:00,  1.29it/s]\n"
     ]
    },
    {
     "name": "stdout",
     "output_type": "stream",
     "text": [
      "[INFO] EPOCH: 41/100\n",
      "Train loss: 0.928229, Test loss: 0.9283, Train IoU: 0.8993, Test IoU: 0.8976, Train Dice: 0.9458, Test Dice: 0.9448\n"
     ]
    },
    {
     "name": "stderr",
     "output_type": "stream",
     "text": [
      "100%|██████████| 144/144 [01:52<00:00,  1.28it/s]\n"
     ]
    },
    {
     "name": "stdout",
     "output_type": "stream",
     "text": [
      "[INFO] EPOCH: 42/100\n",
      "Train loss: 0.928232, Test loss: 0.9283, Train IoU: 0.8994, Test IoU: 0.8991, Train Dice: 0.9458, Test Dice: 0.9456\n",
      "Best IoU improved. Model saved.\n"
     ]
    },
    {
     "name": "stderr",
     "output_type": "stream",
     "text": [
      "100%|██████████| 144/144 [01:51<00:00,  1.29it/s]\n"
     ]
    },
    {
     "name": "stdout",
     "output_type": "stream",
     "text": [
      "[INFO] EPOCH: 43/100\n",
      "Train loss: 0.928222, Test loss: 0.9283, Train IoU: 0.8993, Test IoU: 0.8992, Train Dice: 0.9458, Test Dice: 0.9458\n",
      "Best IoU improved. Model saved.\n"
     ]
    },
    {
     "name": "stderr",
     "output_type": "stream",
     "text": [
      "100%|██████████| 144/144 [01:50<00:00,  1.30it/s]\n"
     ]
    },
    {
     "name": "stdout",
     "output_type": "stream",
     "text": [
      "[INFO] EPOCH: 44/100\n",
      "Train loss: 0.928204, Test loss: 0.9283, Train IoU: 0.9001, Test IoU: 0.8974, Train Dice: 0.9463, Test Dice: 0.9448\n"
     ]
    },
    {
     "name": "stderr",
     "output_type": "stream",
     "text": [
      "100%|██████████| 144/144 [01:51<00:00,  1.29it/s]\n"
     ]
    },
    {
     "name": "stdout",
     "output_type": "stream",
     "text": [
      "[INFO] EPOCH: 45/100\n",
      "Train loss: 0.928141, Test loss: 0.9282, Train IoU: 0.9013, Test IoU: 0.9001, Train Dice: 0.9470, Test Dice: 0.9463\n",
      "Best IoU improved. Model saved.\n"
     ]
    },
    {
     "name": "stderr",
     "output_type": "stream",
     "text": [
      "100%|██████████| 144/144 [01:53<00:00,  1.26it/s]\n"
     ]
    },
    {
     "name": "stdout",
     "output_type": "stream",
     "text": [
      "[INFO] EPOCH: 46/100\n",
      "Train loss: 0.928069, Test loss: 0.9281, Train IoU: 0.9025, Test IoU: 0.9024, Train Dice: 0.9477, Test Dice: 0.9477\n",
      "Best IoU improved. Model saved.\n"
     ]
    },
    {
     "name": "stderr",
     "output_type": "stream",
     "text": [
      "100%|██████████| 144/144 [01:50<00:00,  1.30it/s]\n"
     ]
    },
    {
     "name": "stdout",
     "output_type": "stream",
     "text": [
      "[INFO] EPOCH: 47/100\n",
      "Train loss: 0.928036, Test loss: 0.9280, Train IoU: 0.9031, Test IoU: 0.9041, Train Dice: 0.9480, Test Dice: 0.9486\n",
      "Best IoU improved. Model saved.\n"
     ]
    },
    {
     "name": "stderr",
     "output_type": "stream",
     "text": [
      "100%|██████████| 144/144 [01:50<00:00,  1.31it/s]\n"
     ]
    },
    {
     "name": "stdout",
     "output_type": "stream",
     "text": [
      "[INFO] EPOCH: 48/100\n",
      "Train loss: 0.928067, Test loss: 0.9283, Train IoU: 0.9025, Test IoU: 0.8989, Train Dice: 0.9477, Test Dice: 0.9457\n"
     ]
    },
    {
     "name": "stderr",
     "output_type": "stream",
     "text": [
      "100%|██████████| 144/144 [01:50<00:00,  1.31it/s]\n"
     ]
    },
    {
     "name": "stdout",
     "output_type": "stream",
     "text": [
      "[INFO] EPOCH: 49/100\n",
      "Train loss: 0.927990, Test loss: 0.9280, Train IoU: 0.9043, Test IoU: 0.9036, Train Dice: 0.9487, Test Dice: 0.9484\n"
     ]
    },
    {
     "name": "stderr",
     "output_type": "stream",
     "text": [
      "100%|██████████| 144/144 [01:50<00:00,  1.31it/s]\n"
     ]
    },
    {
     "name": "stdout",
     "output_type": "stream",
     "text": [
      "[INFO] EPOCH: 50/100\n",
      "Train loss: 0.927964, Test loss: 0.9280, Train IoU: 0.9047, Test IoU: 0.9055, Train Dice: 0.9489, Test Dice: 0.9494\n",
      "Best IoU improved. Model saved.\n"
     ]
    },
    {
     "name": "stderr",
     "output_type": "stream",
     "text": [
      "100%|██████████| 144/144 [01:50<00:00,  1.30it/s]\n"
     ]
    },
    {
     "name": "stdout",
     "output_type": "stream",
     "text": [
      "[INFO] EPOCH: 51/100\n",
      "Train loss: 0.927891, Test loss: 0.9280, Train IoU: 0.9062, Test IoU: 0.9052, Train Dice: 0.9498, Test Dice: 0.9493\n"
     ]
    },
    {
     "name": "stderr",
     "output_type": "stream",
     "text": [
      "100%|██████████| 144/144 [01:50<00:00,  1.31it/s]\n"
     ]
    },
    {
     "name": "stdout",
     "output_type": "stream",
     "text": [
      "[INFO] EPOCH: 52/100\n",
      "Train loss: 0.927924, Test loss: 0.9279, Train IoU: 0.9057, Test IoU: 0.9055, Train Dice: 0.9495, Test Dice: 0.9495\n",
      "Best IoU improved. Model saved.\n"
     ]
    },
    {
     "name": "stderr",
     "output_type": "stream",
     "text": [
      "100%|██████████| 144/144 [01:50<00:00,  1.31it/s]\n"
     ]
    },
    {
     "name": "stdout",
     "output_type": "stream",
     "text": [
      "[INFO] EPOCH: 53/100\n",
      "Train loss: 0.927882, Test loss: 0.9280, Train IoU: 0.9064, Test IoU: 0.9054, Train Dice: 0.9499, Test Dice: 0.9495\n"
     ]
    },
    {
     "name": "stderr",
     "output_type": "stream",
     "text": [
      "100%|██████████| 144/144 [01:51<00:00,  1.29it/s]\n"
     ]
    },
    {
     "name": "stdout",
     "output_type": "stream",
     "text": [
      "[INFO] EPOCH: 54/100\n",
      "Train loss: 0.927891, Test loss: 0.9279, Train IoU: 0.9066, Test IoU: 0.9070, Train Dice: 0.9501, Test Dice: 0.9503\n",
      "Best IoU improved. Model saved.\n"
     ]
    },
    {
     "name": "stderr",
     "output_type": "stream",
     "text": [
      "100%|██████████| 144/144 [01:50<00:00,  1.30it/s]\n"
     ]
    },
    {
     "name": "stdout",
     "output_type": "stream",
     "text": [
      "[INFO] EPOCH: 55/100\n",
      "Train loss: 0.927829, Test loss: 0.9278, Train IoU: 0.9073, Test IoU: 0.9083, Train Dice: 0.9504, Test Dice: 0.9511\n",
      "Best IoU improved. Model saved.\n"
     ]
    },
    {
     "name": "stderr",
     "output_type": "stream",
     "text": [
      "100%|██████████| 144/144 [01:50<00:00,  1.30it/s]\n"
     ]
    },
    {
     "name": "stdout",
     "output_type": "stream",
     "text": [
      "[INFO] EPOCH: 56/100\n",
      "Train loss: 0.927819, Test loss: 0.9278, Train IoU: 0.9076, Test IoU: 0.9072, Train Dice: 0.9506, Test Dice: 0.9505\n"
     ]
    },
    {
     "name": "stderr",
     "output_type": "stream",
     "text": [
      "100%|██████████| 144/144 [01:50<00:00,  1.31it/s]\n"
     ]
    },
    {
     "name": "stdout",
     "output_type": "stream",
     "text": [
      "[INFO] EPOCH: 57/100\n",
      "Train loss: 0.927742, Test loss: 0.9278, Train IoU: 0.9092, Test IoU: 0.9085, Train Dice: 0.9515, Test Dice: 0.9512\n",
      "Best IoU improved. Model saved.\n"
     ]
    },
    {
     "name": "stderr",
     "output_type": "stream",
     "text": [
      "100%|██████████| 144/144 [01:50<00:00,  1.30it/s]\n"
     ]
    },
    {
     "name": "stdout",
     "output_type": "stream",
     "text": [
      "[INFO] EPOCH: 58/100\n",
      "Train loss: 0.927781, Test loss: 0.9278, Train IoU: 0.9086, Test IoU: 0.9082, Train Dice: 0.9512, Test Dice: 0.9510\n"
     ]
    },
    {
     "name": "stderr",
     "output_type": "stream",
     "text": [
      "100%|██████████| 144/144 [01:50<00:00,  1.30it/s]\n"
     ]
    },
    {
     "name": "stdout",
     "output_type": "stream",
     "text": [
      "[INFO] EPOCH: 59/100\n",
      "Train loss: 0.927743, Test loss: 0.9280, Train IoU: 0.9088, Test IoU: 0.9044, Train Dice: 0.9513, Test Dice: 0.9489\n"
     ]
    },
    {
     "name": "stderr",
     "output_type": "stream",
     "text": [
      "100%|██████████| 144/144 [01:50<00:00,  1.31it/s]\n"
     ]
    },
    {
     "name": "stdout",
     "output_type": "stream",
     "text": [
      "[INFO] EPOCH: 60/100\n",
      "Train loss: 0.927735, Test loss: 0.9277, Train IoU: 0.9097, Test IoU: 0.9102, Train Dice: 0.9518, Test Dice: 0.9522\n",
      "Best IoU improved. Model saved.\n"
     ]
    },
    {
     "name": "stderr",
     "output_type": "stream",
     "text": [
      "100%|██████████| 144/144 [01:50<00:00,  1.30it/s]\n"
     ]
    },
    {
     "name": "stdout",
     "output_type": "stream",
     "text": [
      "[INFO] EPOCH: 61/100\n",
      "Train loss: 0.927679, Test loss: 0.9277, Train IoU: 0.9108, Test IoU: 0.9111, Train Dice: 0.9524, Test Dice: 0.9526\n",
      "Best IoU improved. Model saved.\n"
     ]
    },
    {
     "name": "stderr",
     "output_type": "stream",
     "text": [
      "100%|██████████| 144/144 [01:50<00:00,  1.30it/s]\n"
     ]
    },
    {
     "name": "stdout",
     "output_type": "stream",
     "text": [
      "[INFO] EPOCH: 62/100\n",
      "Train loss: 0.927681, Test loss: 0.9277, Train IoU: 0.9108, Test IoU: 0.9096, Train Dice: 0.9524, Test Dice: 0.9519\n"
     ]
    },
    {
     "name": "stderr",
     "output_type": "stream",
     "text": [
      "100%|██████████| 144/144 [01:50<00:00,  1.30it/s]\n"
     ]
    },
    {
     "name": "stdout",
     "output_type": "stream",
     "text": [
      "[INFO] EPOCH: 63/100\n",
      "Train loss: 0.927653, Test loss: 0.9277, Train IoU: 0.9114, Test IoU: 0.9096, Train Dice: 0.9528, Test Dice: 0.9519\n"
     ]
    },
    {
     "name": "stderr",
     "output_type": "stream",
     "text": [
      "100%|██████████| 144/144 [01:50<00:00,  1.31it/s]\n"
     ]
    },
    {
     "name": "stdout",
     "output_type": "stream",
     "text": [
      "[INFO] EPOCH: 64/100\n",
      "Train loss: 0.927611, Test loss: 0.9276, Train IoU: 0.9118, Test IoU: 0.9122, Train Dice: 0.9530, Test Dice: 0.9534\n",
      "Best IoU improved. Model saved.\n"
     ]
    },
    {
     "name": "stderr",
     "output_type": "stream",
     "text": [
      "100%|██████████| 144/144 [01:50<00:00,  1.30it/s]\n"
     ]
    },
    {
     "name": "stdout",
     "output_type": "stream",
     "text": [
      "[INFO] EPOCH: 65/100\n",
      "Train loss: 0.927606, Test loss: 0.9278, Train IoU: 0.9125, Test IoU: 0.9088, Train Dice: 0.9534, Test Dice: 0.9514\n"
     ]
    },
    {
     "name": "stderr",
     "output_type": "stream",
     "text": [
      "100%|██████████| 144/144 [01:50<00:00,  1.30it/s]\n"
     ]
    },
    {
     "name": "stdout",
     "output_type": "stream",
     "text": [
      "[INFO] EPOCH: 66/100\n",
      "Train loss: 0.927649, Test loss: 0.9277, Train IoU: 0.9117, Test IoU: 0.9120, Train Dice: 0.9530, Test Dice: 0.9532\n"
     ]
    },
    {
     "name": "stderr",
     "output_type": "stream",
     "text": [
      "100%|██████████| 144/144 [01:50<00:00,  1.31it/s]\n"
     ]
    },
    {
     "name": "stdout",
     "output_type": "stream",
     "text": [
      "[INFO] EPOCH: 67/100\n",
      "Train loss: 0.927584, Test loss: 0.9277, Train IoU: 0.9130, Test IoU: 0.9117, Train Dice: 0.9537, Test Dice: 0.9530\n"
     ]
    },
    {
     "name": "stderr",
     "output_type": "stream",
     "text": [
      "100%|██████████| 144/144 [01:50<00:00,  1.31it/s]\n"
     ]
    },
    {
     "name": "stdout",
     "output_type": "stream",
     "text": [
      "[INFO] EPOCH: 68/100\n",
      "Train loss: 0.927591, Test loss: 0.9276, Train IoU: 0.9127, Test IoU: 0.9112, Train Dice: 0.9536, Test Dice: 0.9528\n"
     ]
    },
    {
     "name": "stderr",
     "output_type": "stream",
     "text": [
      "100%|██████████| 144/144 [01:51<00:00,  1.29it/s]\n"
     ]
    },
    {
     "name": "stdout",
     "output_type": "stream",
     "text": [
      "[INFO] EPOCH: 69/100\n",
      "Train loss: 0.927592, Test loss: 0.9276, Train IoU: 0.9129, Test IoU: 0.9117, Train Dice: 0.9536, Test Dice: 0.9530\n"
     ]
    },
    {
     "name": "stderr",
     "output_type": "stream",
     "text": [
      "100%|██████████| 144/144 [01:50<00:00,  1.31it/s]\n"
     ]
    },
    {
     "name": "stdout",
     "output_type": "stream",
     "text": [
      "[INFO] EPOCH: 70/100\n",
      "Train loss: 0.927522, Test loss: 0.9276, Train IoU: 0.9140, Test IoU: 0.9133, Train Dice: 0.9542, Test Dice: 0.9539\n",
      "Best IoU improved. Model saved.\n"
     ]
    },
    {
     "name": "stderr",
     "output_type": "stream",
     "text": [
      "100%|██████████| 144/144 [01:50<00:00,  1.30it/s]\n"
     ]
    },
    {
     "name": "stdout",
     "output_type": "stream",
     "text": [
      "[INFO] EPOCH: 71/100\n",
      "Train loss: 0.927555, Test loss: 0.9276, Train IoU: 0.9134, Test IoU: 0.9134, Train Dice: 0.9539, Test Dice: 0.9540\n",
      "Best IoU improved. Model saved.\n"
     ]
    },
    {
     "name": "stderr",
     "output_type": "stream",
     "text": [
      "100%|██████████| 144/144 [01:51<00:00,  1.29it/s]\n"
     ]
    },
    {
     "name": "stdout",
     "output_type": "stream",
     "text": [
      "[INFO] EPOCH: 72/100\n",
      "Train loss: 0.927550, Test loss: 0.9275, Train IoU: 0.9138, Test IoU: 0.9141, Train Dice: 0.9542, Test Dice: 0.9544\n",
      "Best IoU improved. Model saved.\n"
     ]
    },
    {
     "name": "stderr",
     "output_type": "stream",
     "text": [
      "100%|██████████| 144/144 [01:50<00:00,  1.30it/s]\n"
     ]
    },
    {
     "name": "stdout",
     "output_type": "stream",
     "text": [
      "[INFO] EPOCH: 73/100\n",
      "Train loss: 0.927530, Test loss: 0.9276, Train IoU: 0.9141, Test IoU: 0.9115, Train Dice: 0.9544, Test Dice: 0.9530\n"
     ]
    },
    {
     "name": "stderr",
     "output_type": "stream",
     "text": [
      "100%|██████████| 144/144 [01:50<00:00,  1.30it/s]\n"
     ]
    },
    {
     "name": "stdout",
     "output_type": "stream",
     "text": [
      "[INFO] EPOCH: 74/100\n",
      "Train loss: 0.927500, Test loss: 0.9275, Train IoU: 0.9145, Test IoU: 0.9143, Train Dice: 0.9546, Test Dice: 0.9545\n",
      "Best IoU improved. Model saved.\n"
     ]
    },
    {
     "name": "stderr",
     "output_type": "stream",
     "text": [
      "100%|██████████| 144/144 [01:50<00:00,  1.30it/s]\n"
     ]
    },
    {
     "name": "stdout",
     "output_type": "stream",
     "text": [
      "[INFO] EPOCH: 75/100\n",
      "Train loss: 0.927484, Test loss: 0.9276, Train IoU: 0.9149, Test IoU: 0.9111, Train Dice: 0.9548, Test Dice: 0.9528\n"
     ]
    },
    {
     "name": "stderr",
     "output_type": "stream",
     "text": [
      "100%|██████████| 144/144 [02:18<00:00,  1.04it/s]\n"
     ]
    },
    {
     "name": "stdout",
     "output_type": "stream",
     "text": [
      "[INFO] EPOCH: 76/100\n",
      "Train loss: 0.927493, Test loss: 0.9276, Train IoU: 0.9143, Test IoU: 0.9128, Train Dice: 0.9544, Test Dice: 0.9537\n"
     ]
    },
    {
     "name": "stderr",
     "output_type": "stream",
     "text": [
      "100%|██████████| 144/144 [02:35<00:00,  1.08s/it]\n"
     ]
    },
    {
     "name": "stdout",
     "output_type": "stream",
     "text": [
      "[INFO] EPOCH: 77/100\n",
      "Train loss: 0.927459, Test loss: 0.9275, Train IoU: 0.9152, Test IoU: 0.9144, Train Dice: 0.9550, Test Dice: 0.9546\n",
      "Best IoU improved. Model saved.\n"
     ]
    },
    {
     "name": "stderr",
     "output_type": "stream",
     "text": [
      "100%|██████████| 144/144 [01:50<00:00,  1.30it/s]\n"
     ]
    },
    {
     "name": "stdout",
     "output_type": "stream",
     "text": [
      "[INFO] EPOCH: 78/100\n",
      "Train loss: 0.927482, Test loss: 0.9275, Train IoU: 0.9148, Test IoU: 0.9136, Train Dice: 0.9547, Test Dice: 0.9542\n"
     ]
    },
    {
     "name": "stderr",
     "output_type": "stream",
     "text": [
      "100%|██████████| 144/144 [01:50<00:00,  1.31it/s]\n"
     ]
    },
    {
     "name": "stdout",
     "output_type": "stream",
     "text": [
      "[INFO] EPOCH: 79/100\n",
      "Train loss: 0.927429, Test loss: 0.9276, Train IoU: 0.9160, Test IoU: 0.9137, Train Dice: 0.9554, Test Dice: 0.9542\n"
     ]
    },
    {
     "name": "stderr",
     "output_type": "stream",
     "text": [
      "100%|██████████| 144/144 [01:50<00:00,  1.30it/s]\n"
     ]
    },
    {
     "name": "stdout",
     "output_type": "stream",
     "text": [
      "[INFO] EPOCH: 80/100\n",
      "Train loss: 0.927402, Test loss: 0.9275, Train IoU: 0.9164, Test IoU: 0.9143, Train Dice: 0.9556, Test Dice: 0.9546\n"
     ]
    },
    {
     "name": "stderr",
     "output_type": "stream",
     "text": [
      "100%|██████████| 144/144 [01:50<00:00,  1.31it/s]\n"
     ]
    },
    {
     "name": "stdout",
     "output_type": "stream",
     "text": [
      "[INFO] EPOCH: 81/100\n",
      "Train loss: 0.927474, Test loss: 0.9275, Train IoU: 0.9152, Test IoU: 0.9143, Train Dice: 0.9550, Test Dice: 0.9546\n"
     ]
    },
    {
     "name": "stderr",
     "output_type": "stream",
     "text": [
      "100%|██████████| 144/144 [01:50<00:00,  1.30it/s]\n"
     ]
    },
    {
     "name": "stdout",
     "output_type": "stream",
     "text": [
      "[INFO] EPOCH: 82/100\n",
      "Train loss: 0.927457, Test loss: 0.9275, Train IoU: 0.9155, Test IoU: 0.9158, Train Dice: 0.9551, Test Dice: 0.9553\n",
      "Best IoU improved. Model saved.\n"
     ]
    },
    {
     "name": "stderr",
     "output_type": "stream",
     "text": [
      "100%|██████████| 144/144 [01:50<00:00,  1.31it/s]\n"
     ]
    },
    {
     "name": "stdout",
     "output_type": "stream",
     "text": [
      "[INFO] EPOCH: 83/100\n",
      "Train loss: 0.927424, Test loss: 0.9275, Train IoU: 0.9161, Test IoU: 0.9141, Train Dice: 0.9555, Test Dice: 0.9544\n"
     ]
    },
    {
     "name": "stderr",
     "output_type": "stream",
     "text": [
      "100%|██████████| 144/144 [01:50<00:00,  1.30it/s]\n"
     ]
    },
    {
     "name": "stdout",
     "output_type": "stream",
     "text": [
      "[INFO] EPOCH: 84/100\n",
      "Train loss: 0.927400, Test loss: 0.9275, Train IoU: 0.9168, Test IoU: 0.9139, Train Dice: 0.9558, Test Dice: 0.9543\n"
     ]
    },
    {
     "name": "stderr",
     "output_type": "stream",
     "text": [
      "100%|██████████| 144/144 [01:50<00:00,  1.30it/s]\n"
     ]
    },
    {
     "name": "stdout",
     "output_type": "stream",
     "text": [
      "[INFO] EPOCH: 85/100\n",
      "Train loss: 0.927398, Test loss: 0.9275, Train IoU: 0.9165, Test IoU: 0.9157, Train Dice: 0.9557, Test Dice: 0.9553\n"
     ]
    },
    {
     "name": "stderr",
     "output_type": "stream",
     "text": [
      "100%|██████████| 144/144 [01:50<00:00,  1.30it/s]\n"
     ]
    },
    {
     "name": "stdout",
     "output_type": "stream",
     "text": [
      "[INFO] EPOCH: 86/100\n",
      "Train loss: 0.927377, Test loss: 0.9275, Train IoU: 0.9170, Test IoU: 0.9158, Train Dice: 0.9560, Test Dice: 0.9554\n",
      "Best IoU improved. Model saved.\n"
     ]
    },
    {
     "name": "stderr",
     "output_type": "stream",
     "text": [
      "100%|██████████| 144/144 [01:50<00:00,  1.30it/s]\n"
     ]
    },
    {
     "name": "stdout",
     "output_type": "stream",
     "text": [
      "[INFO] EPOCH: 87/100\n",
      "Train loss: 0.927394, Test loss: 0.9274, Train IoU: 0.9167, Test IoU: 0.9158, Train Dice: 0.9558, Test Dice: 0.9554\n"
     ]
    },
    {
     "name": "stderr",
     "output_type": "stream",
     "text": [
      "100%|██████████| 144/144 [01:50<00:00,  1.30it/s]\n"
     ]
    },
    {
     "name": "stdout",
     "output_type": "stream",
     "text": [
      "[INFO] EPOCH: 88/100\n",
      "Train loss: 0.927384, Test loss: 0.9274, Train IoU: 0.9168, Test IoU: 0.9159, Train Dice: 0.9559, Test Dice: 0.9554\n",
      "Best IoU improved. Model saved.\n"
     ]
    },
    {
     "name": "stderr",
     "output_type": "stream",
     "text": [
      "100%|██████████| 144/144 [01:50<00:00,  1.30it/s]\n"
     ]
    },
    {
     "name": "stdout",
     "output_type": "stream",
     "text": [
      "[INFO] EPOCH: 89/100\n",
      "Train loss: 0.927385, Test loss: 0.9274, Train IoU: 0.9171, Test IoU: 0.9166, Train Dice: 0.9560, Test Dice: 0.9558\n",
      "Best IoU improved. Model saved.\n"
     ]
    },
    {
     "name": "stderr",
     "output_type": "stream",
     "text": [
      "100%|██████████| 144/144 [01:50<00:00,  1.30it/s]\n"
     ]
    },
    {
     "name": "stdout",
     "output_type": "stream",
     "text": [
      "[INFO] EPOCH: 90/100\n",
      "Train loss: 0.927365, Test loss: 0.9274, Train IoU: 0.9177, Test IoU: 0.9167, Train Dice: 0.9564, Test Dice: 0.9559\n",
      "Best IoU improved. Model saved.\n"
     ]
    },
    {
     "name": "stderr",
     "output_type": "stream",
     "text": [
      "100%|██████████| 144/144 [01:50<00:00,  1.30it/s]\n"
     ]
    },
    {
     "name": "stdout",
     "output_type": "stream",
     "text": [
      "[INFO] EPOCH: 91/100\n",
      "Train loss: 0.927376, Test loss: 0.9274, Train IoU: 0.9174, Test IoU: 0.9171, Train Dice: 0.9562, Test Dice: 0.9561\n",
      "Best IoU improved. Model saved.\n"
     ]
    },
    {
     "name": "stderr",
     "output_type": "stream",
     "text": [
      "100%|██████████| 144/144 [01:50<00:00,  1.30it/s]\n"
     ]
    },
    {
     "name": "stdout",
     "output_type": "stream",
     "text": [
      "[INFO] EPOCH: 92/100\n",
      "Train loss: 0.927340, Test loss: 0.9274, Train IoU: 0.9179, Test IoU: 0.9166, Train Dice: 0.9564, Test Dice: 0.9558\n"
     ]
    },
    {
     "name": "stderr",
     "output_type": "stream",
     "text": [
      "100%|██████████| 144/144 [01:50<00:00,  1.30it/s]\n"
     ]
    },
    {
     "name": "stdout",
     "output_type": "stream",
     "text": [
      "[INFO] EPOCH: 93/100\n",
      "Train loss: 0.927385, Test loss: 0.9274, Train IoU: 0.9172, Test IoU: 0.9166, Train Dice: 0.9561, Test Dice: 0.9559\n"
     ]
    },
    {
     "name": "stderr",
     "output_type": "stream",
     "text": [
      "100%|██████████| 144/144 [01:50<00:00,  1.30it/s]\n"
     ]
    },
    {
     "name": "stdout",
     "output_type": "stream",
     "text": [
      "[INFO] EPOCH: 94/100\n",
      "Train loss: 0.927353, Test loss: 0.9275, Train IoU: 0.9175, Test IoU: 0.9158, Train Dice: 0.9562, Test Dice: 0.9554\n"
     ]
    },
    {
     "name": "stderr",
     "output_type": "stream",
     "text": [
      "100%|██████████| 144/144 [01:50<00:00,  1.30it/s]\n"
     ]
    },
    {
     "name": "stdout",
     "output_type": "stream",
     "text": [
      "[INFO] EPOCH: 95/100\n",
      "Train loss: 0.927324, Test loss: 0.9274, Train IoU: 0.9183, Test IoU: 0.9171, Train Dice: 0.9567, Test Dice: 0.9561\n",
      "Best IoU improved. Model saved.\n"
     ]
    },
    {
     "name": "stderr",
     "output_type": "stream",
     "text": [
      "100%|██████████| 144/144 [01:50<00:00,  1.30it/s]\n"
     ]
    },
    {
     "name": "stdout",
     "output_type": "stream",
     "text": [
      "[INFO] EPOCH: 96/100\n",
      "Train loss: 0.927324, Test loss: 0.9274, Train IoU: 0.9184, Test IoU: 0.9178, Train Dice: 0.9568, Test Dice: 0.9566\n",
      "Best IoU improved. Model saved.\n"
     ]
    },
    {
     "name": "stderr",
     "output_type": "stream",
     "text": [
      "100%|██████████| 144/144 [01:50<00:00,  1.30it/s]\n"
     ]
    },
    {
     "name": "stdout",
     "output_type": "stream",
     "text": [
      "[INFO] EPOCH: 97/100\n",
      "Train loss: 0.927303, Test loss: 0.9274, Train IoU: 0.9188, Test IoU: 0.9167, Train Dice: 0.9570, Test Dice: 0.9559\n"
     ]
    },
    {
     "name": "stderr",
     "output_type": "stream",
     "text": [
      "100%|██████████| 144/144 [01:50<00:00,  1.30it/s]\n"
     ]
    },
    {
     "name": "stdout",
     "output_type": "stream",
     "text": [
      "[INFO] EPOCH: 98/100\n",
      "Train loss: 0.927314, Test loss: 0.9274, Train IoU: 0.9188, Test IoU: 0.9172, Train Dice: 0.9570, Test Dice: 0.9562\n"
     ]
    },
    {
     "name": "stderr",
     "output_type": "stream",
     "text": [
      "100%|██████████| 144/144 [01:53<00:00,  1.27it/s]\n"
     ]
    },
    {
     "name": "stdout",
     "output_type": "stream",
     "text": [
      "[INFO] EPOCH: 99/100\n",
      "Train loss: 0.927313, Test loss: 0.9274, Train IoU: 0.9180, Test IoU: 0.9163, Train Dice: 0.9565, Test Dice: 0.9557\n"
     ]
    },
    {
     "name": "stderr",
     "output_type": "stream",
     "text": [
      "100%|██████████| 144/144 [01:52<00:00,  1.28it/s]\n"
     ]
    },
    {
     "name": "stdout",
     "output_type": "stream",
     "text": [
      "[INFO] EPOCH: 100/100\n",
      "Train loss: 0.927300, Test loss: 0.9274, Train IoU: 0.9184, Test IoU: 0.9171, Train Dice: 0.9568, Test Dice: 0.9561\n",
      "[INFO] total time taken to train the model: 13302.58s\n",
      "Best IoU is: 0.91783\n"
     ]
    }
   ],
   "source": [
    "bestIoU = 0\n",
    "# loop over epochs\n",
    "print(\"[INFO] training the network...\")\n",
    "startTime = time.time()\n",
    "for e in range(NUM_EPOCHS):\n",
    "\t# set the model in training mode\n",
    "\tuformer.train()\n",
    "\t# initialize the total training and validation loss\n",
    "\ttotalTrainLoss = 0\n",
    "\ttotalTestLoss = 0\n",
    "\n",
    "\ttotalTrainIoU = 0\n",
    "\ttotalTestIoU = 0\n",
    "\ttotalTrainDC = 0\n",
    "\ttotalTestDC = 0\n",
    "\t# loop over the training set\n",
    "\tfor i, (x, y) in enumerate(tqdm(trainLoader)):\n",
    "\t\t# send the input to the device\n",
    "\t\tx, y = x.to(DEVICE), y.to(DEVICE)\n",
    "\t\t# perform a forward pass and calculate the training loss\n",
    "\t\tpred = uformer(x)\n",
    "\t\tassert pred.shape == y.shape, f\"{pred.shape} != {y.shape}\" # B, C, H, W\n",
    "\t\tpred = softmax(pred)\n",
    "\t\tloss = lossFunc(pred, y)\n",
    "\t\t# first, zero out any previously accumulated gradients, then\n",
    "\t\t# perform backpropagation, and then update model parameters\n",
    "\t\topt.zero_grad()\n",
    "\t\tloss.backward()\n",
    "\t\topt.step()\n",
    "\t\t# add the loss to the total training loss so far\n",
    "\t\ttotalTrainLoss += loss\n",
    "\t\ttotalTrainIoU += iouMetric(pred, y)\n",
    "\t\ttotalTrainDC += gdlMetric(pred, y)\n",
    "\t# switch off autograd\n",
    "\twith torch.no_grad():\n",
    "\t\t# set the model in evaluation mode\n",
    "\t\tuformer.eval()\n",
    "\t\t# loop over the validation set\n",
    "\t\tfor (x, y) in testLoader:\n",
    "\t\t\t# send the input to the device\n",
    "\t\t\t(x, y) = (x.to(DEVICE), y.to(DEVICE))\n",
    "\t\t\t# make the predictions and calculate the validation loss\n",
    "\t\t\tpred = uformer(x)\n",
    "\t\t\tassert pred.shape == y.shape, f\"{pred.shape} != {y.shape}\" # B, C, H, W\n",
    "\t\t\tpred = softmax(pred)\n",
    "\t\t\ttotalTestLoss += lossFunc(pred, y)\n",
    "\t\t\ttotalTestIoU += iouMetric(pred, y)\n",
    "\t\t\ttotalTestDC += gdlMetric(pred, y)\n",
    "\t\t\t\n",
    "\t# calculate the average training and validation loss\n",
    "\tavgTrainLoss = totalTrainLoss / trainSteps\n",
    "\tavgTestLoss = totalTestLoss / testSteps\n",
    "\n",
    "\tavgTrainIoU = totalTrainIoU / trainSteps\n",
    "\tavgTestIoU = totalTestIoU / testSteps\n",
    "\tavgTrainDC = totalTrainDC / trainSteps\n",
    "\tavgTestDC = totalTestDC / testSteps\n",
    "\t# update our training history\n",
    "\tH[\"train_loss\"].append(avgTrainLoss.cpu().detach().numpy())\n",
    "\tH[\"test_loss\"].append(avgTestLoss.cpu().detach().numpy())\n",
    "\n",
    "\tH[\"train_IoU\"].append(avgTrainIoU.cpu().detach().numpy())\n",
    "\tH[\"test_IoU\"].append(avgTestIoU.cpu().detach().numpy())\n",
    "\tH[\"train_DC\"].append(avgTrainDC.cpu().detach().numpy())\n",
    "\tH[\"test_DC\"].append(avgTestDC.cpu().detach().numpy())\n",
    "\n",
    "\t# print the model training and validation information\n",
    "\tprint(\"[INFO] EPOCH: {}/{}\".format(e + 1, NUM_EPOCHS))\n",
    "\tprint(f\"Train loss: {avgTrainLoss:.6f}, Test loss: {avgTestLoss:.4f}, \" + \n",
    "       f\"Train IoU: {avgTrainIoU:.4f}, Test IoU: {avgTestIoU:.4f}, Train Dice: {avgTrainDC:.4f}, Test Dice: {avgTestDC:.4f}\")\n",
    "\n",
    "\tif avgTestIoU > bestIoU:\n",
    "\t\tbestIoU = avgTestIoU\n",
    "\t\ttorch.save(uformer.state_dict(), '../models/uformer_diceLoss.pth')\n",
    "\t\tprint('Best IoU improved. Model saved.')\n",
    "\t\t\n",
    "# display the total time needed to perform the training\n",
    "endTime = time.time()\n",
    "print(\"[INFO] total time taken to train the model: {:.2f}s\".format(endTime - startTime))\n",
    "print(f'Best IoU is: {bestIoU:.5f}')"
   ]
  },
  {
   "cell_type": "code",
   "execution_count": 13,
   "metadata": {},
   "outputs": [],
   "source": [
    "# serialize the model to disk\n",
    "# torch.save(uformer.state_dict(), '../models/uformer_tversky.pth')\n",
    "# uformer.load_state_dict(torch.load('../models/uformer.pth'))"
   ]
  },
  {
   "cell_type": "code",
   "execution_count": 14,
   "metadata": {},
   "outputs": [
    {
     "data": {
      "image/png": "[encoded data removed]",
      "text/plain": [
       "<Figure size 1200x400 with 2 Axes>"
      ]
     },
     "metadata": {},
     "output_type": "display_data"
    }
   ],
   "source": [
    "plt.figure(figsize=(12,4))\n",
    "plt.subplot(121)\n",
    "plt.plot(H['train_loss'])\n",
    "plt.plot(H['test_loss'])\n",
    "plt.title('Model loss')\n",
    "plt.ylabel('loss')\n",
    "plt.xlabel('epoch')\n",
    "plt.legend(['train', 'val'], loc='upper right')\n",
    "\n",
    "plt.subplot(122)\n",
    "plt.plot(H['train_IoU'])\n",
    "plt.plot(H['test_IoU'])\n",
    "plt.plot(H['train_DC'])\n",
    "plt.plot(H['test_DC'])\n",
    "plt.title('Model metrics')\n",
    "plt.ylabel('score')\n",
    "plt.xlabel('epoch')\n",
    "\n",
    "plt.legend(['train IoU', 'val IoU', 'train dice', 'val_dice'], loc='lower right')\n",
    "\n",
    "plt.show()"
   ]
  },
  {
   "cell_type": "code",
   "execution_count": 15,
   "metadata": {},
   "outputs": [],
   "source": [
    "def make_prediction(model, image):\n",
    "\timage = torch.Tensor(image).permute((2, 0, 1)).to(DEVICE)\n",
    "\timage = torch.unsqueeze(image, 0)\n",
    "\t# set model to evaluation mode\n",
    "\tmodel.eval()\n",
    "\t# turn off gradient tracking\n",
    "\twith torch.no_grad():\n",
    "\t\tpredMask = model(image)\n",
    "\t\tpredMask = softmax(predMask)\n",
    "\t\tpredMask = torch.squeeze(predMask, 0)\n",
    "\t\tpredMask = predMask.permute((1, 2, 0))\n",
    "\t\tpredMask = predMask.cpu().detach().numpy()\n",
    "\t\tpredMask = np.argmax(predMask, axis=-1)\n",
    "\t\tpredMask = np.expand_dims(predMask, axis=-1)\n",
    "\t\t# filter out the weak predictions and convert them to integers\n",
    "\t\treturn predMask.astype(np.uint8)\n"
   ]
  },
  {
   "cell_type": "code",
   "execution_count": 16,
   "metadata": {},
   "outputs": [],
   "source": [
    "def getPredImg(image_path):     \n",
    "    image = cv2.imread(image_path)\n",
    "    image = image[10:-10, 120:-120,:]\n",
    "    image = resize_with_pad(image, (INPUT_IMAGE_WIDTH, INPUT_IMAGE_HEIGHT))\n",
    "    image = cv2.cvtColor(image, cv2.COLOR_BGR2RGB)\n",
    "    image = image / 255\n",
    "    return image\n",
    "\n",
    "def getPredMask(mask_path):\n",
    "    mask = cv2.imread(mask_path)\n",
    "    mask = mask[10:-10, 120:-120,:]\n",
    "    mask = resize_with_pad(mask, (INPUT_IMAGE_WIDTH, INPUT_IMAGE_HEIGHT), (50, 50, 50))\n",
    "    mask = cv2.cvtColor(mask, cv2.COLOR_BGR2GRAY)\n",
    "    mask = np.expand_dims(mask, axis=-1)\n",
    "    mask = encode_mask(mask)\n",
    "    return mask"
   ]
  },
  {
   "cell_type": "code",
   "execution_count": 17,
   "metadata": {},
   "outputs": [
    {
     "data": {
      "image/png": "[encoded data removed]",
      "text/plain": [
       "<Figure size 1000x1000 with 9 Axes>"
      ]
     },
     "metadata": {},
     "output_type": "display_data"
    }
   ],
   "source": [
    "plt.figure(figsize=(10,10))\n",
    "for i in range(3):    \n",
    "\n",
    "    idx = random.randint(0, len(testImages) -1)\n",
    "    img = getPredImg(testImages[idx])\n",
    "    mask = getPredMask(testMasks[idx])\n",
    "    \n",
    "    plt.subplot(331 + 3*i)\n",
    "    plt.imshow(img)\n",
    "    plt.title('Image')\n",
    "    plt.axis(\"off\")\n",
    "\n",
    "    mask = np.argmax(mask, axis=-1)\n",
    "    mask = np.expand_dims(mask, axis=-1)\n",
    "    plt.subplot(332 + 3*i)\n",
    "    plt.imshow(mask, cmap='magma', norm=plt.Normalize(vmin=0, vmax=12))\n",
    "    plt.title('Mask')\n",
    "    plt.axis(\"off\")\n",
    "\n",
    "    pred = make_prediction(uformer, img)\n",
    "    plt.subplot(333 + 3*i)\n",
    "    plt.imshow(pred, cmap='magma', norm=plt.Normalize(vmin=0, vmax=12))\n",
    "    plt.title('Prediction')\n",
    "    plt.axis(\"off\")\n",
    "\n",
    "plt.show()"
   ]
  },
  {
   "attachments": {},
   "cell_type": "markdown",
   "metadata": {},
   "source": [
    " --- \n",
    " TFG - Alejandro García Mota"
   ]
  }
 ],
 "metadata": {
  "kernelspec": {
   "display_name": "tf-gpu-env",
   "language": "python",
   "name": "python3"
  },
  "language_info": {
   "codemirror_mode": {
    "name": "ipython",
    "version": 3
   },
   "file_extension": ".py",
   "mimetype": "text/x-python",
   "name": "python",
   "nbconvert_exporter": "python",
   "pygments_lexer": "ipython3",
   "version": "3.9.16"
  },
  "orig_nbformat": 4,
  "vscode": {
   "interpreter": {
    "hash": "f011f267c79147290789ae68e632b5c2d498cf08b7b2ac60d440d7e076e68725"
   }
  }
 },
 "nbformat": 4,
 "nbformat_minor": 2
}
