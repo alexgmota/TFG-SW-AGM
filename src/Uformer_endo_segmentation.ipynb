{
 "cells": [
  {
   "attachments": {},
   "cell_type": "markdown",
   "metadata": {},
   "source": [
    "# Deep Learning: Endoscopy segmentation.\n",
    "[Dataset](https://www.kaggle.com/datasets/newslab/cholecseg8k?resource=download)"
   ]
  },
  {
   "cell_type": "code",
   "execution_count": 1,
   "metadata": {},
   "outputs": [
    {
     "name": "stderr",
     "output_type": "stream",
     "text": [
      "c:\\Users\\alexg\\miniconda3\\envs\\pytorch-gpu\\lib\\site-packages\\tqdm\\auto.py:21: TqdmWarning: IProgress not found. Please update jupyter and ipywidgets. See https://ipywidgets.readthedocs.io/en/stable/user_install.html\n",
      "  from .autonotebook import tqdm as notebook_tqdm\n"
     ]
    }
   ],
   "source": [
    "import torch\n",
    "import os\n",
    "from glob import glob\n",
    "import numpy as np\n",
    "import time\n",
    "from tqdm import tqdm\n",
    "import pandas as pd\n",
    "import matplotlib.pyplot as plt\n",
    "from torch.utils.data import Dataset\n",
    "import cv2\n",
    "import random\n",
    "from pytorch_Uformer import model\n",
    "from pytorch_Uformer import losses\n",
    "from sklearn.model_selection import train_test_split"
   ]
  },
  {
   "cell_type": "code",
   "execution_count": 2,
   "metadata": {},
   "outputs": [
    {
     "data": {
      "text/plain": [
       "(True, 'NVIDIA GeForce GTX 1650 Ti with Max-Q Design')"
      ]
     },
     "execution_count": 2,
     "metadata": {},
     "output_type": "execute_result"
    }
   ],
   "source": [
    "torch.cuda.is_available(), torch.cuda.get_device_name(0)"
   ]
  },
  {
   "cell_type": "code",
   "execution_count": 3,
   "metadata": {},
   "outputs": [],
   "source": [
    "SEED = 33\n",
    "random.seed(SEED)\n",
    "np.random.seed(SEED)\n",
    "torch.manual_seed(SEED)\n",
    "torch.cuda.manual_seed_all(SEED)"
   ]
  },
  {
   "cell_type": "code",
   "execution_count": 4,
   "metadata": {},
   "outputs": [],
   "source": [
    "# determine the device to be used for training and evaluation\n",
    "DEVICE = \"cuda\" if torch.cuda.is_available() else \"cpu\"\n",
    "# determine if we will be pinning memory during data loading\n",
    "PIN_MEMORY = True if DEVICE == \"cuda\" else False\n",
    "# define the number of channels in the input, number of classes,\n",
    "# and number of levels in the U-Net model\n",
    "NUM_CHANNELS = 3\n",
    "NUM_CLASSES = 13\n",
    "NUM_LEVELS = 3\n",
    "# initialize learning rate, number of epochs to train for, and the\n",
    "# batch size\n",
    "INIT_LR = 0.001\n",
    "NUM_EPOCHS = 20\n",
    "BATCH_SIZE = 32\n",
    "# define the input image dimensions\n",
    "INPUT_IMAGE_WIDTH = 64\n",
    "INPUT_IMAGE_HEIGHT = 64\n",
    "# define threshold to filter weak predictions\n",
    "THRESHOLD = 0.5\n",
    "# define the path to the base output directory\n",
    "BASE_OUTPUT = \"output\"\n",
    "# define the path to the output serialized model, model training\n",
    "# plot, and testing image paths\n",
    "MODEL_PATH = os.path.join(BASE_OUTPUT, \"unet_tgs_salt.pth\")\n",
    "PLOT_PATH = os.path.sep.join([BASE_OUTPUT, \"plot.png\"])\n",
    "TEST_PATHS = os.path.sep.join([BASE_OUTPUT, \"test_paths.txt\"])"
   ]
  },
  {
   "attachments": {},
   "cell_type": "markdown",
   "metadata": {},
   "source": [
    "## Data preparation."
   ]
  },
  {
   "cell_type": "code",
   "execution_count": 5,
   "metadata": {},
   "outputs": [
    {
     "name": "stdout",
     "output_type": "stream",
     "text": [
      "Number of samples: 2500\n"
     ]
    }
   ],
   "source": [
    "IMAGE_DATASET_PATH = glob(f'../*/*/*/frame_*_endo.png')[2000:4500]\n",
    "MASK_DATASET_PATH  = glob(f'../*/*/*/frame_*_endo_watershed_mask.png')[2000:4500]\n",
    "N = len(IMAGE_DATASET_PATH)\n",
    "assert len(IMAGE_DATASET_PATH) == len(MASK_DATASET_PATH)\n",
    "\n",
    "print(f'Number of samples: {str(len(MASK_DATASET_PATH))}')"
   ]
  },
  {
   "cell_type": "code",
   "execution_count": 6,
   "metadata": {},
   "outputs": [],
   "source": [
    "def to_categorical(y, num_classes=None, dtype=\"float32\"):\n",
    "\ty = np.array(y, dtype=\"int\")\n",
    "\tinput_shape = y.shape\n",
    "\n",
    "\t# Shrink the last dimension if the shape is (..., 1).\n",
    "\tif input_shape and input_shape[-1] == 1 and len(input_shape) > 1:\n",
    "\t\tinput_shape = tuple(input_shape[:-1])\n",
    "\n",
    "\ty = y.reshape(-1)\n",
    "\tif not num_classes:\n",
    "\t\tnum_classes = np.max(y) + 1\n",
    "\tn = y.shape[0]\n",
    "\tcategorical = np.zeros((n, num_classes), dtype=dtype)\n",
    "\tcategorical[np.arange(n), y] = 1\n",
    "\toutput_shape = input_shape + (num_classes,)\n",
    "\tcategorical = np.reshape(categorical, output_shape)\n",
    "\treturn categorical\n",
    "\n",
    "labels = [[11],[21],[13],[12],[31],[23],[24],[25],[32],[22],[33],[5]]\n",
    "def encode_masks(masks_arr, n_classes=NUM_CLASSES, size=N, H=INPUT_IMAGE_HEIGHT, W=INPUT_IMAGE_WIDTH, labels_arr=labels):\n",
    "    y_encoded = np.zeros((size, H, W, 1), dtype=np.uint8)\n",
    "\n",
    "    for i, label in enumerate(labels_arr):\n",
    "        y_encoded[np.all(label == masks_arr, axis=-1)] = i + 1\n",
    "    \n",
    "    return to_categorical(y_encoded, num_classes=n_classes)\n",
    "\n",
    "class SegmentationDataset(Dataset):\n",
    "\tdef __init__(self, imagePaths, maskPaths, transforms):\n",
    "\t\t# store the image and mask filepaths, and augmentation\n",
    "\t\t# transforms\n",
    "\t\tself.imagePaths = imagePaths\n",
    "\t\tself.maskPaths = maskPaths\n",
    "\t\tself.transforms = transforms\n",
    "\n",
    "\tdef __len__(self):\n",
    "\t\t# return the number of total samples contained in the dataset\n",
    "\t\treturn len(self.imagePaths)\n",
    "\t\n",
    "\tdef __getitem__(self, idx):\n",
    "\t\t# grab the image path from the current index\n",
    "\t\timagePath = self.imagePaths[idx]\n",
    "\t\t# load the image from disk, swap its channels from BGR to RGB,\n",
    "\t\t# and read the associated mask from disk in grayscale mode\n",
    "\t\timage = cv2.imread(imagePath)\n",
    "\t\timage = image[10:-10, 10:-10,:]\n",
    "\t\timage = cv2.cvtColor(image, cv2.COLOR_BGR2RGB)\n",
    "\t\timage = cv2.resize(image, (INPUT_IMAGE_WIDTH, INPUT_IMAGE_HEIGHT))\n",
    "\n",
    "\t\tmask = cv2.imread(self.maskPaths[idx])\n",
    "\t\tmask = mask[10:-10, 10:-10,:]\n",
    "\t\tmask = cv2.cvtColor(mask, cv2.COLOR_BGR2GRAY)\n",
    "\t\tmask = cv2.resize(mask, (INPUT_IMAGE_WIDTH, INPUT_IMAGE_HEIGHT), interpolation=cv2.INTER_NEAREST)\n",
    "\t\tmask = np.expand_dims(mask, axis=-1)\n",
    "\t\t\n",
    "\t\t# check to see if we are applying any transformations\n",
    "\t\tif self.transforms is not None:\n",
    "\t\t\t# apply the transformations to both image and its mask\n",
    "\t\t\timage = self.transforms(image)\n",
    "\t\t\tmask = self.transforms(mask)\n",
    "\t\t# return a tuple of the image and its mask\n",
    "\t\treturn image, mask"
   ]
  },
  {
   "cell_type": "code",
   "execution_count": 7,
   "metadata": {},
   "outputs": [],
   "source": [
    "uformer = model.Uformer(img_size=INPUT_IMAGE_HEIGHT, embed_dim=16, win_size=8, token_projection='linear', token_mlp='leff',modulator=True)\n",
    "trainImages, testImages, trainMasks, testMasks = train_test_split(IMAGE_DATASET_PATH, MASK_DATASET_PATH, test_size=0.2, random_state=43)"
   ]
  },
  {
   "cell_type": "code",
   "execution_count": 8,
   "metadata": {},
   "outputs": [
    {
     "name": "stdout",
     "output_type": "stream",
     "text": [
      "[INFO] found 2000 examples in the training set...\n",
      "[INFO] found 500 examples in the test set...\n"
     ]
    }
   ],
   "source": [
    "# define transformations\n",
    "from torchvision import transforms\n",
    "from torch.utils.data import DataLoader\n",
    "\n",
    "transforms = transforms.Compose([\n",
    "    transforms.ToPILImage(),\n",
    "\ttransforms.ToTensor()])\n",
    "\n",
    "# create the train and test datasets\n",
    "trainDS = SegmentationDataset(imagePaths=trainImages, maskPaths=trainMasks,\n",
    "\ttransforms=transforms)\n",
    "testDS = SegmentationDataset(imagePaths=testImages, maskPaths=testMasks,\n",
    "    transforms=transforms)\n",
    "print(f\"[INFO] found {len(trainDS)} examples in the training set...\")\n",
    "print(f\"[INFO] found {len(testDS)} examples in the test set...\")\n",
    "# create the training and test data loaders\n",
    "trainLoader = DataLoader(\n",
    "\ttrainDS, \n",
    "\tshuffle=True,\n",
    "\tbatch_size=BATCH_SIZE, \n",
    "\tpin_memory=PIN_MEMORY,\n",
    ")\n",
    "testLoader = DataLoader(\n",
    "\ttestDS, shuffle=False,\n",
    "\tbatch_size=BATCH_SIZE, \n",
    "\tpin_memory=PIN_MEMORY,\n",
    ")"
   ]
  },
  {
   "cell_type": "code",
   "execution_count": 9,
   "metadata": {},
   "outputs": [],
   "source": [
    "uformer = uformer.to(DEVICE)\n",
    "# initialize loss function and optimizer\n",
    "lossFunc = losses.CharbonnierLoss()\n",
    "opt = torch.optim.Adam(uformer.parameters(), lr=INIT_LR, betas=(0.9, 0.999),eps=1e-8, weight_decay=0.02)\n",
    "\n",
    "# calculate steps per epoch for training and test set\n",
    "trainSteps = len(trainDS) // BATCH_SIZE\n",
    "testSteps = len(testDS) // BATCH_SIZE\n",
    "# initialize a dictionary to store training history\n",
    "H = {\"train_loss\": [], \"test_loss\": []}"
   ]
  },
  {
   "cell_type": "code",
   "execution_count": 10,
   "metadata": {},
   "outputs": [
    {
     "name": "stdout",
     "output_type": "stream",
     "text": [
      "[INFO] training the network...\n"
     ]
    },
    {
     "name": "stderr",
     "output_type": "stream",
     "text": [
      "  5%|▌         | 1/20 [01:38<31:04, 98.13s/it]"
     ]
    },
    {
     "name": "stdout",
     "output_type": "stream",
     "text": [
      "[INFO] EPOCH: 1/20\n",
      "Train loss: 0.078357, Test loss: 0.0562\n"
     ]
    },
    {
     "name": "stderr",
     "output_type": "stream",
     "text": [
      " 10%|█         | 2/20 [03:12<28:47, 95.99s/it]"
     ]
    },
    {
     "name": "stdout",
     "output_type": "stream",
     "text": [
      "[INFO] EPOCH: 2/20\n",
      "Train loss: 0.046687, Test loss: 0.0426\n"
     ]
    },
    {
     "name": "stderr",
     "output_type": "stream",
     "text": [
      " 15%|█▌        | 3/20 [04:48<27:07, 95.75s/it]"
     ]
    },
    {
     "name": "stdout",
     "output_type": "stream",
     "text": [
      "[INFO] EPOCH: 3/20\n",
      "Train loss: 0.038309, Test loss: 0.0378\n"
     ]
    },
    {
     "name": "stderr",
     "output_type": "stream",
     "text": [
      " 20%|██        | 4/20 [06:26<25:46, 96.67s/it]"
     ]
    },
    {
     "name": "stdout",
     "output_type": "stream",
     "text": [
      "[INFO] EPOCH: 4/20\n",
      "Train loss: 0.034762, Test loss: 0.0351\n"
     ]
    },
    {
     "name": "stderr",
     "output_type": "stream",
     "text": [
      " 25%|██▌       | 5/20 [08:00<23:57, 95.81s/it]"
     ]
    },
    {
     "name": "stdout",
     "output_type": "stream",
     "text": [
      "[INFO] EPOCH: 5/20\n",
      "Train loss: 0.033193, Test loss: 0.0337\n"
     ]
    },
    {
     "name": "stderr",
     "output_type": "stream",
     "text": [
      " 30%|███       | 6/20 [09:34<22:14, 95.31s/it]"
     ]
    },
    {
     "name": "stdout",
     "output_type": "stream",
     "text": [
      "[INFO] EPOCH: 6/20\n",
      "Train loss: 0.032005, Test loss: 0.0333\n"
     ]
    },
    {
     "name": "stderr",
     "output_type": "stream",
     "text": [
      " 35%|███▌      | 7/20 [11:11<20:43, 95.67s/it]"
     ]
    },
    {
     "name": "stdout",
     "output_type": "stream",
     "text": [
      "[INFO] EPOCH: 7/20\n",
      "Train loss: 0.031095, Test loss: 0.0319\n"
     ]
    },
    {
     "name": "stderr",
     "output_type": "stream",
     "text": [
      " 40%|████      | 8/20 [12:48<19:13, 96.13s/it]"
     ]
    },
    {
     "name": "stdout",
     "output_type": "stream",
     "text": [
      "[INFO] EPOCH: 8/20\n",
      "Train loss: 0.030474, Test loss: 0.0320\n"
     ]
    },
    {
     "name": "stderr",
     "output_type": "stream",
     "text": [
      " 45%|████▌     | 9/20 [14:25<17:40, 96.42s/it]"
     ]
    },
    {
     "name": "stdout",
     "output_type": "stream",
     "text": [
      "[INFO] EPOCH: 9/20\n",
      "Train loss: 0.030306, Test loss: 0.0313\n"
     ]
    },
    {
     "name": "stderr",
     "output_type": "stream",
     "text": [
      " 50%|█████     | 10/20 [16:02<16:06, 96.65s/it]"
     ]
    },
    {
     "name": "stdout",
     "output_type": "stream",
     "text": [
      "[INFO] EPOCH: 10/20\n",
      "Train loss: 0.029417, Test loss: 0.0304\n"
     ]
    },
    {
     "name": "stderr",
     "output_type": "stream",
     "text": [
      " 55%|█████▌    | 11/20 [17:37<14:26, 96.23s/it]"
     ]
    },
    {
     "name": "stdout",
     "output_type": "stream",
     "text": [
      "[INFO] EPOCH: 11/20\n",
      "Train loss: 0.028845, Test loss: 0.0302\n"
     ]
    },
    {
     "name": "stderr",
     "output_type": "stream",
     "text": [
      " 60%|██████    | 12/20 [19:12<12:45, 95.67s/it]"
     ]
    },
    {
     "name": "stdout",
     "output_type": "stream",
     "text": [
      "[INFO] EPOCH: 12/20\n",
      "Train loss: 0.028557, Test loss: 0.0296\n"
     ]
    },
    {
     "name": "stderr",
     "output_type": "stream",
     "text": [
      " 65%|██████▌   | 13/20 [20:46<11:06, 95.15s/it]"
     ]
    },
    {
     "name": "stdout",
     "output_type": "stream",
     "text": [
      "[INFO] EPOCH: 13/20\n",
      "Train loss: 0.028617, Test loss: 0.0294\n"
     ]
    },
    {
     "name": "stderr",
     "output_type": "stream",
     "text": [
      " 70%|███████   | 14/20 [22:22<09:33, 95.63s/it]"
     ]
    },
    {
     "name": "stdout",
     "output_type": "stream",
     "text": [
      "[INFO] EPOCH: 14/20\n",
      "Train loss: 0.028299, Test loss: 0.0295\n"
     ]
    },
    {
     "name": "stderr",
     "output_type": "stream",
     "text": [
      " 75%|███████▌  | 15/20 [23:59<07:59, 95.92s/it]"
     ]
    },
    {
     "name": "stdout",
     "output_type": "stream",
     "text": [
      "[INFO] EPOCH: 15/20\n",
      "Train loss: 0.027850, Test loss: 0.0290\n"
     ]
    },
    {
     "name": "stderr",
     "output_type": "stream",
     "text": [
      " 80%|████████  | 16/20 [25:36<06:24, 96.14s/it]"
     ]
    },
    {
     "name": "stdout",
     "output_type": "stream",
     "text": [
      "[INFO] EPOCH: 16/20\n",
      "Train loss: 0.027678, Test loss: 0.0289\n"
     ]
    },
    {
     "name": "stderr",
     "output_type": "stream",
     "text": [
      " 85%|████████▌ | 17/20 [27:12<04:48, 96.28s/it]"
     ]
    },
    {
     "name": "stdout",
     "output_type": "stream",
     "text": [
      "[INFO] EPOCH: 17/20\n",
      "Train loss: 0.027524, Test loss: 0.0291\n"
     ]
    },
    {
     "name": "stderr",
     "output_type": "stream",
     "text": [
      " 90%|█████████ | 18/20 [28:49<03:12, 96.45s/it]"
     ]
    },
    {
     "name": "stdout",
     "output_type": "stream",
     "text": [
      "[INFO] EPOCH: 18/20\n",
      "Train loss: 0.027466, Test loss: 0.0287\n"
     ]
    },
    {
     "name": "stderr",
     "output_type": "stream",
     "text": [
      " 95%|█████████▌| 19/20 [30:26<01:36, 96.46s/it]"
     ]
    },
    {
     "name": "stdout",
     "output_type": "stream",
     "text": [
      "[INFO] EPOCH: 19/20\n",
      "Train loss: 0.027329, Test loss: 0.0292\n"
     ]
    },
    {
     "name": "stderr",
     "output_type": "stream",
     "text": [
      "100%|██████████| 20/20 [32:02<00:00, 96.12s/it]"
     ]
    },
    {
     "name": "stdout",
     "output_type": "stream",
     "text": [
      "[INFO] EPOCH: 20/20\n",
      "Train loss: 0.027591, Test loss: 0.0286\n",
      "[INFO] total time taken to train the model: 1922.43s\n"
     ]
    },
    {
     "name": "stderr",
     "output_type": "stream",
     "text": [
      "\n"
     ]
    }
   ],
   "source": [
    "# loop over epochs\n",
    "print(\"[INFO] training the network...\")\n",
    "startTime = time.time()\n",
    "for e in tqdm(range(NUM_EPOCHS)):\n",
    "\t# set the model in training mode\n",
    "\tuformer.train()\n",
    "\t# initialize the total training and validation loss\n",
    "\ttotalTrainLoss = 0\n",
    "\ttotalTestLoss = 0\n",
    "\t# loop over the training set\n",
    "\tfor i, (x, y) in enumerate(trainLoader):\n",
    "\t\t# send the input to the device\n",
    "\t\tx, y = x.to(DEVICE), y.to(DEVICE)\n",
    "\t\t# perform a forward pass and calculate the training loss\n",
    "\t\tpred = uformer(x)\n",
    "\t\tloss = lossFunc(pred, y)\n",
    "\t\t# first, zero out any previously accumulated gradients, then\n",
    "\t\t# perform backpropagation, and then update model parameters\n",
    "\t\topt.zero_grad()\n",
    "\t\tloss.backward()\n",
    "\t\topt.step()\n",
    "\t\t# add the loss to the total training loss so far\n",
    "\t\ttotalTrainLoss += loss\n",
    "\t# switch off autograd\n",
    "\twith torch.no_grad():\n",
    "\t\t# set the model in evaluation mode\n",
    "\t\tuformer.eval()\n",
    "\t\t# loop over the validation set\n",
    "\t\tfor (x, y) in testLoader:\n",
    "\t\t\t# send the input to the device\n",
    "\t\t\t(x, y) = (x.to(DEVICE), y.to(DEVICE))\n",
    "\t\t\t# make the predictions and calculate the validation loss\n",
    "\t\t\tpred = uformer(x)\n",
    "\t\t\ttotalTestLoss += lossFunc(pred, y)\n",
    "\t# calculate the average training and validation loss\n",
    "\tavgTrainLoss = totalTrainLoss / trainSteps\n",
    "\tavgTestLoss = totalTestLoss / testSteps\n",
    "\t# update our training history\n",
    "\tH[\"train_loss\"].append(avgTrainLoss.cpu().detach().numpy())\n",
    "\tH[\"test_loss\"].append(avgTestLoss.cpu().detach().numpy())\n",
    "\t# print the model training and validation information\n",
    "\tprint(\"[INFO] EPOCH: {}/{}\".format(e + 1, NUM_EPOCHS))\n",
    "\tprint(\"Train loss: {:.6f}, Test loss: {:.4f}\".format(avgTrainLoss, avgTestLoss))\n",
    "# display the total time needed to perform the training\n",
    "endTime = time.time()\n",
    "print(\"[INFO] total time taken to train the model: {:.2f}s\".format(endTime - startTime))"
   ]
  },
  {
   "cell_type": "code",
   "execution_count": 11,
   "metadata": {},
   "outputs": [],
   "source": [
    "# from timm.utils import NativeScaler\n",
    "# from pytorch_Uformer import utils\n",
    "\n",
    "# len_trainset = trainDS.__len__()\n",
    "# len_valset = testDS.__len__()\n",
    "\n",
    "# print('===> Start Epoch {} End Epoch {}'.format(0, NUM_EPOCHS))\n",
    "# best_psnr = 0\n",
    "# best_epoch = 0\n",
    "# best_iter = 0\n",
    "# eval_now = len(trainLoader)//4\n",
    "# print(\"\\nEvaluation after every {} Iterations !!!\\n\".format(eval_now))\n",
    "\n",
    "# criterion = losses.CharbonnierLoss().cuda()\n",
    "# loss_scaler = NativeScaler()\n",
    "# torch.cuda.empty_cache()\n",
    "# for epoch in range(0, NUM_EPOCHS + 1):\n",
    "#     epoch_start_time = time.time()\n",
    "#     epoch_loss = 0\n",
    "#     train_id = 1\n",
    "\n",
    "#     for i, data in enumerate(tqdm(trainLoader), 0): \n",
    "#         # zero_grad\n",
    "#         opt.zero_grad()\n",
    "\n",
    "#         target = data[0].cuda()\n",
    "#         input_ = data[1].cuda()\n",
    "\n",
    "#         with torch.cuda.amp.autocast():\n",
    "#             restored = uformer(input_)\n",
    "#             loss = criterion(restored, target)\n",
    "#         loss_scaler(loss, opt, parameters=uformer.parameters())\n",
    "#         epoch_loss += loss.item()\n",
    "\n",
    "#         #### Evaluation ####\n",
    "#         if (i+1)%eval_now==0 and i>0:\n",
    "#             with torch.no_grad():\n",
    "#                 uformer.eval()\n",
    "#                 psnr_val_rgb = []\n",
    "#                 for ii, data_val in enumerate((testLoader), 0):\n",
    "#                     target = data_val[0].cuda()\n",
    "#                     input_ = data_val[1].cuda()\n",
    "#                     filenames = data_val[2]\n",
    "#                     with torch.cuda.amp.autocast():\n",
    "#                         restored = uformer(input_)\n",
    "#                     restored = torch.clamp(restored,0,1)  \n",
    "#                     psnr_val_rgb.append(utils.batch_PSNR(restored, target, False).item())\n",
    "\n",
    "#                 psnr_val_rgb = sum(psnr_val_rgb)/ len_valset\n",
    "                \n",
    "#                 if psnr_val_rgb > best_psnr:\n",
    "#                     best_psnr = psnr_val_rgb\n",
    "#                     best_epoch = epoch\n",
    "#                     best_iter = i \n",
    "#                     torch.save({'epoch': epoch, \n",
    "#                                 'state_dict': uformer.state_dict(),\n",
    "#                                 'optimizer' : opt.state_dict()\n",
    "#                                 }, '../models/uformer_best.pth')\n",
    "\n",
    "#                 print(\"[Ep %d it %d\\t PSNR SIDD: %.4f\\t] ----  [best_Ep_SIDD %d best_it_SIDD %d Best_PSNR_SIDD %.4f] \" % (epoch, i, psnr_val_rgb,best_epoch,best_iter,best_psnr))\n",
    "\n",
    "#                 uformer.train()\n",
    "#                 torch.cuda.empty_cache()\n",
    "#     scheduler.step()\n",
    "    \n",
    "#     print(\"------------------------------------------------------------------\")\n",
    "#     print(\"Epoch: {}\\tTime: {:.4f}\\tLoss: {:.4f}\\tLearningRate {:.6f}\".format(epoch, time.time()-epoch_start_time,epoch_loss, scheduler.get_lr()[0]))\n",
    "#     print(\"------------------------------------------------------------------\")\n",
    "\n",
    "\n"
   ]
  },
  {
   "cell_type": "code",
   "execution_count": 12,
   "metadata": {},
   "outputs": [
    {
     "data": {
      "image/png": "[encoded data removed]",
      "text/plain": [
       "<Figure size 640x480 with 1 Axes>"
      ]
     },
     "metadata": {},
     "output_type": "display_data"
    }
   ],
   "source": [
    "# plot the training loss\n",
    "plt.figure()\n",
    "plt.plot(H[\"train_loss\"], label=\"train_loss\")\n",
    "plt.plot(H[\"test_loss\"], label=\"test_loss\")\n",
    "plt.title(\"Training Loss on Dataset\")\n",
    "plt.xlabel(\"Epoch #\")\n",
    "plt.ylabel(\"Loss\")\n",
    "plt.legend(loc=\"lower left\")\n",
    "plt.show()\n",
    "# serialize the model to disk\n",
    "torch.save(uformer, '../models/uformer.pt')"
   ]
  },
  {
   "cell_type": "code",
   "execution_count": 10,
   "metadata": {},
   "outputs": [],
   "source": [
    "def prepare_plot(origImage, origMask, predMask):\n",
    "\t# initialize our figure\n",
    "\tfigure, ax = plt.subplots(nrows=1, ncols=3, figsize=(10, 10))\n",
    "\t# plot the original image, its mask, and the predicted mask\n",
    "\tax[0].imshow(origImage)\n",
    "\tax[1].imshow(origMask)\n",
    "\tax[2].imshow(predMask)\n",
    "\t# set the titles of the subplots\n",
    "\tax[0].set_title(\"Image\")\n",
    "\tax[1].set_title(\"Original Mask\")\n",
    "\tax[2].set_title(\"Predicted Mask\")\n",
    "\t# set the layout of the figure and display it\n",
    "\tfigure.tight_layout()\n",
    "\tfigure.show()"
   ]
  },
  {
   "cell_type": "code",
   "execution_count": 12,
   "metadata": {},
   "outputs": [
    {
     "name": "stdout",
     "output_type": "stream",
     "text": [
      "[INFO] loading up test image paths...\n",
      "[INFO] load up model...\n"
     ]
    },
    {
     "name": "stderr",
     "output_type": "stream",
     "text": [
      "C:\\Users\\alexg\\AppData\\Local\\Temp\\ipykernel_6300\\2060972660.py:14: UserWarning: Matplotlib is currently using module://matplotlib_inline.backend_inline, which is a non-GUI backend, so cannot show the figure.\n",
      "  figure.show()\n"
     ]
    },
    {
     "data": {
      "image/png": "[encoded data removed]",
      "text/plain": [
       "<Figure size 1000x1000 with 3 Axes>"
      ]
     },
     "metadata": {},
     "output_type": "display_data"
    }
   ],
   "source": [
    "def make_predictions(model, imagePath, maskPath):\n",
    "\t# set model to evaluation mode\n",
    "\tmodel.eval()\n",
    "\t# turn off gradient tracking\n",
    "\twith torch.no_grad():\n",
    "\t\t# load the image from disk, swap its color channels, cast it\n",
    "\t\t# to float data type, and scale its pixel values\n",
    "\t\timage = cv2.imread(imagePath)\n",
    "\t\timage = cv2.cvtColor(image, cv2.COLOR_BGR2RGB)\n",
    "\t\timage = image.astype(\"float32\") / 255.0\n",
    "\t\t# resize the image and make a copy of it for visualization\n",
    "\t\timage = cv2.resize(image, (INPUT_IMAGE_HEIGHT, INPUT_IMAGE_HEIGHT))\n",
    "\t\torig = image.copy()\n",
    "\t\t# find the filename and generate the path to ground truth\n",
    "\t\t# mask\n",
    "\t\t# load the ground-truth segmentation mask in grayscale mode\n",
    "\t\t# and resize it\n",
    "\t\tgtMask = cv2.imread(maskPath, 0)\n",
    "\t\tgtMask = cv2.resize(gtMask, (INPUT_IMAGE_HEIGHT, INPUT_IMAGE_HEIGHT))\n",
    "\t\t\n",
    "        # make the channel axis to be the leading one, add a batch\n",
    "\t\t# dimension, create a PyTorch tensor, and flash it to the\n",
    "\t\t# current device\n",
    "\t\timage = np.transpose(image, (2, 0, 1))\n",
    "\t\timage = np.expand_dims(image, 0)\n",
    "\t\timage = torch.from_numpy(image).to(DEVICE)\n",
    "\t\t# make the prediction, pass the results through the sigmoid\n",
    "\t\t# function, and convert the result to a NumPy array\n",
    "\t\tpredMask = model(image).squeeze()\n",
    "\t\tpredMask = predMask.permute(1,2,0)\n",
    "\t\tpredMask = predMask.cpu().numpy()\n",
    "\t\t# filter out the weak predictions and convert them to integers\n",
    "\t\tpredMask = predMask.astype(np.uint8)\n",
    "\t\t# prepare a plot for visualization\n",
    "\t\tprepare_plot(orig, gtMask, predMask)\n",
    "\t\t\n",
    "# load the image paths in our testing file and randomly select 10\n",
    "# image paths\n",
    "print(\"[INFO] loading up test image paths...\")\n",
    "idx = random.randint(0, len(testImages) -1 )\n",
    "# load our model from disk and flash it to the current device\n",
    "print(\"[INFO] load up model...\")\n",
    "uformer = torch.load('../models/uformer.pt').to(DEVICE)\n",
    "\n",
    "# make predictions and visualize the results\n",
    "make_predictions(uformer, testImages[idx], testMasks[idx])"
   ]
  },
  {
   "attachments": {},
   "cell_type": "markdown",
   "metadata": {},
   "source": [
    " --- \n",
    " TFG - Alejandro García Mota"
   ]
  }
 ],
 "metadata": {
  "kernelspec": {
   "display_name": "tf-gpu-env",
   "language": "python",
   "name": "python3"
  },
  "language_info": {
   "codemirror_mode": {
    "name": "ipython",
    "version": 3
   },
   "file_extension": ".py",
   "mimetype": "text/x-python",
   "name": "python",
   "nbconvert_exporter": "python",
   "pygments_lexer": "ipython3",
   "version": "3.8.16"
  },
  "orig_nbformat": 4,
  "vscode": {
   "interpreter": {
    "hash": "f011f267c79147290789ae68e632b5c2d498cf08b7b2ac60d440d7e076e68725"
   }
  }
 },
 "nbformat": 4,
 "nbformat_minor": 2
}
